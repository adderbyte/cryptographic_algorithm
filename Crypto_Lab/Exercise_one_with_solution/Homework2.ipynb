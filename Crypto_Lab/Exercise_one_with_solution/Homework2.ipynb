{
 "cells": [
  {
   "cell_type": "markdown",
   "metadata": {
    "deletable": true,
    "editable": true
   },
   "source": [
    "##  HOMEWORK 2"
   ]
  },
  {
   "cell_type": "markdown",
   "metadata": {
    "deletable": true,
    "editable": true
   },
   "source": [
    "##  Exercise 2 "
   ]
  },
  {
   "cell_type": "code",
   "execution_count": 2,
   "metadata": {
    "collapsed": true,
    "deletable": true,
    "editable": true
   },
   "outputs": [],
   "source": [
    "n2=6518794751213912339554398226798855884842134115176146907514831965664129856392796248640865436554888615351152669908027069349565406296496650618175914124126297683347000487881209530373473\n",
    "p21=3673416836971456525081559090170129524369019417597601004252642294866558863644012254956864739\n",
    "p22=1836708418485728262540779545085064762184509708798800502126321147433279431822006127478432369\n",
    "q21=1774586179712815748621681089129657600838739131155547222508971439586183672551879789643977707\n",
    "q22=887293089856407874310840544564828800419369565577773611254485719793091836275939894821988853\n",
    "g2=4947913844771620965646012205688441693970892381656556732140228785819676393977177142973812374964019499507551137737775475470100495258532024321211310429705917209270743631111412049330727"
   ]
  },
  {
   "cell_type": "code",
   "execution_count": 37,
   "metadata": {
    "collapsed": true
   },
   "outputs": [],
   "source": []
  },
  {
   "cell_type": "markdown",
   "metadata": {
    "deletable": true,
    "editable": true
   },
   "source": [
    "### Organise Parameters in a dictionary"
   ]
  },
  {
   "cell_type": "code",
   "execution_count": 3,
   "metadata": {
    "collapsed": false,
    "deletable": true,
    "editable": true
   },
   "outputs": [],
   "source": [
    "# Put parameters neatly in a dictionary\n",
    "parameter_values = [n2,p21,p22,q21,q22,g2]\n",
    "parameter_names = [\"n2\",\"p21\",\"p22\",\"q21\",\"q22\",\"g2\"]\n",
    "parameter_dict = dict( zip(parameter_names, parameter_values ) )"
   ]
  },
  {
   "cell_type": "code",
   "execution_count": 4,
   "metadata": {
    "collapsed": false,
    "deletable": true,
    "editable": true
   },
   "outputs": [
    {
     "name": "stdout",
     "output_type": "stream",
     "text": [
      "Is g2 prime:  False\n",
      "Is q21 prime:  True\n",
      "Is q22 prime:  True\n",
      "Is p21 prime:  True\n",
      "Is p22 prime:  True\n",
      "Is n2 prime:  False\n"
     ]
    }
   ],
   "source": [
    "for key in parameter_dict:\n",
    "    print  'Is',  key, 'prime: ',  is_prime(parameter_dict[key])"
   ]
  },
  {
   "cell_type": "markdown",
   "metadata": {
    "deletable": true,
    "editable": true
   },
   "source": [
    "In your parameter file, you will find six integers n2, p21, p22, q21, q22 and g2 where g2 ∈ Z∗n2 , n2 = p21q21, p21 = 2p22 +1 and q21 = 2q22 +1. Find the order of g2 in Z∗n2 and write it under Q2 in your answer file.\n"
   ]
  },
  {
   "cell_type": "code",
   "execution_count": 5,
   "metadata": {
    "collapsed": false,
    "deletable": true,
    "editable": true
   },
   "outputs": [
    {
     "name": "stdout",
     "output_type": "stream",
     "text": [
      "Verify that n2= p21q21:  True\n"
     ]
    }
   ],
   "source": [
    "print \"Verify that n2= p21q21: \" , n2 == p21 * q21"
   ]
  },
  {
   "cell_type": "code",
   "execution_count": 6,
   "metadata": {
    "collapsed": false,
    "deletable": true,
    "editable": true
   },
   "outputs": [],
   "source": [
    "# Since n2 = p21 * q21 and (p21 * q21 ) are prime\n",
    "# Then the totient function is easy to compute \n",
    "# eu = (p21-1)(q21-1)\n",
    "\n",
    "multiplicative_group_order = ((p21)-1)*((q21)-1)"
   ]
  },
  {
   "cell_type": "code",
   "execution_count": 7,
   "metadata": {
    "collapsed": false,
    "deletable": true,
    "editable": true
   },
   "outputs": [
    {
     "data": {
      "text/plain": [
       "1"
      ]
     },
     "execution_count": 7,
     "metadata": {},
     "output_type": "execute_result"
    }
   ],
   "source": [
    "power_mod(g2,multiplicative_group_order,n2) # order of group verification\n",
    "                                            # this returns one  verifying that g is an \n",
    "                                            # element of the group. This is because\n",
    "                                            # its order \n",
    "                                            # should  be a factor of Group order.\n",
    "                                            # ie # Order_group = k * order_of_g2\n",
    "                                            # Or # order_of_g2 | Order_of_goup = k\n",
    "                                        \n",
    "    "
   ]
  },
  {
   "cell_type": "code",
   "execution_count": 43,
   "metadata": {
    "collapsed": false,
    "deletable": true,
    "editable": true
   },
   "outputs": [],
   "source": [
    "# The order of g2 should be a factor of multiplicative_group_order\n",
    "# multiplicative_group_order= (p21-1)*(p22-1) =  (2p22+1-1)(2q22+1 -1) =  (2p22)(2q22)\n",
    "# the factors of multiplicative_group_order are likely 2,4,2p22,2q22,4q22,4p22, q22 , q22,  (p22)(q22),4(p22)(q22)\n",
    "# We pick the one that satisfies the condition g^k = 1 \n",
    "# where k is an element of the factors\n"
   ]
  },
  {
   "cell_type": "code",
   "execution_count": 9,
   "metadata": {
    "collapsed": false,
    "deletable": true,
    "editable": true
   },
   "outputs": [],
   "source": [
    "order_check_list = [2,4, p22,q22,2*p22,2*q22,4*q22,4*q22,p22*q22,2*p22*q22,4*p22*q22 ] # list of factors of order of group \n",
    "order_names = [\"2\",\"4\",\"p22\",\"q22\",\"2*p22\",\"2*q22\",\"4*p22\",\"4*q22\",\"p22*q22\",\"2*p22*q22\",\"4*p22*q22\"]\n",
    "order_dict = dict( zip(order_names, order_check_list ) )"
   ]
  },
  {
   "cell_type": "code",
   "execution_count": 10,
   "metadata": {
    "collapsed": false,
    "deletable": true,
    "editable": true
   },
   "outputs": [],
   "source": [
    "collector =[];\n",
    "def order_of_g2_checker(order_dict,g2,n):\n",
    "    '''\n",
    "    Input: takes dictionary consisting\n",
    "    of factors of order of group.\n",
    "    and n2\n",
    "    \n",
    "    Output: returns the one satisfying \n",
    "    the condition that g2^k = 1\n",
    "    \n",
    "    '''\n",
    "    for key in order_dict: \n",
    "        check = power_mod(g2,order_dict[key] ,n2)\n",
    "        if check == 1:\n",
    "            collector.append(key)\n",
    "        else:\n",
    "            continue\n",
    "    return collector\n",
    "                \n",
    "            "
   ]
  },
  {
   "cell_type": "code",
   "execution_count": 11,
   "metadata": {
    "collapsed": false,
    "deletable": true,
    "editable": true
   },
   "outputs": [],
   "source": [
    "collector_ =   order_of_g2_checker(order_dict,g2,n2)"
   ]
  },
  {
   "cell_type": "code",
   "execution_count": null,
   "metadata": {
    "collapsed": false,
    "deletable": true,
    "editable": true
   },
   "outputs": [],
   "source": []
  },
  {
   "cell_type": "code",
   "execution_count": 15,
   "metadata": {
    "collapsed": false,
    "deletable": true,
    "editable": true
   },
   "outputs": [
    {
     "name": "stdout",
     "output_type": "stream",
     "text": [
      "all possible orders of g3 ['4*p22*q22', '2*p22*q22', 'p22*q22']\n"
     ]
    }
   ],
   "source": [
    "print \"all possible orders of g3\",collector # show all factors equal"
   ]
  },
  {
   "cell_type": "code",
   "execution_count": 17,
   "metadata": {
    "collapsed": false,
    "deletable": true,
    "editable": true
   },
   "outputs": [
    {
     "name": "stdout",
     "output_type": "stream",
     "text": [
      "We pick the minimum in the list  1629698687803478084888599556699713971210533528794036726878707991416032464098199062160216357776721399666720099051196722512444570272184525466256921840628140807651116072997291232382757  ...since it is the smallest\n"
     ]
    }
   ],
   "source": [
    "print \"We pick the minimum in the list \", order_dict[\"p22*q22\"] , \" ...since it is the smallest\""
   ]
  },
  {
   "cell_type": "code",
   "execution_count": null,
   "metadata": {
    "collapsed": false,
    "deletable": true,
    "editable": true
   },
   "outputs": [],
   "source": []
  },
  {
   "cell_type": "markdown",
   "metadata": {
    "collapsed": false,
    "deletable": true,
    "editable": true
   },
   "source": [
    "# Exercise 1"
   ]
  },
  {
   "cell_type": "code",
   "execution_count": 126,
   "metadata": {
    "collapsed": false,
    "deletable": true,
    "editable": true
   },
   "outputs": [],
   "source": [
    "m11=2185009518812470266713980977591672001160104495906570899359329\n",
    "m12=2829959501808824818968744543479596214902066890103603571190716\n",
    "m13=2488773373073389824855058953944254285681363869733847010919619\n",
    "m14=2903351574709552337015521886268657163608579148088889492054438\n",
    "y11=162935749620444109872969676628557735855110794156738574730650631401980798927788880114037073383960432013291662159000\n",
    "y12=180577856212268044905453951265943881014496973360420348707851024424113074719291223358677360479872565409018007799200\n",
    "w1=118674347160075300731294\n",
    "u1=1292323405965699583332436"
   ]
  },
  {
   "cell_type": "code",
   "execution_count": 38,
   "metadata": {
    "collapsed": true,
    "deletable": true,
    "editable": true
   },
   "outputs": [],
   "source": [
    "m11=2714200403291588353945337794243017304495742465677479282325796\n",
    "m12=2862786071356479819662502074656628377856243548214881319845238\n",
    "m13=1972163819751739672857479014701659789237619115035809672999763\n",
    "m14=2266833227785806069523644020914603555933819565956583576412870\n",
    "y11=25900302015562985228106790794857552081047340747664656161155106303504918613428601861441719272908607970423995408360\n",
    "y12=20498358792038441761518566751735292643555438432926253913235721151557767309431386969911275568828513408199570208360\n",
    "w1=1137787997613498295882\n",
    "u1=1873954197786185005472\n"
   ]
  },
  {
   "cell_type": "code",
   "execution_count": 39,
   "metadata": {
    "collapsed": false,
    "deletable": true,
    "editable": true
   },
   "outputs": [],
   "source": [
    "# Construct a matrix \n",
    "M =matrix(ZZ,[[m11,m12],[m13,m14]])"
   ]
  },
  {
   "cell_type": "code",
   "execution_count": 40,
   "metadata": {
    "collapsed": false,
    "deletable": true,
    "editable": true
   },
   "outputs": [],
   "source": [
    "# Construct y matrix\n",
    "Y =matrix(ZZ,[[y11],[y12]])"
   ]
  },
  {
   "cell_type": "code",
   "execution_count": 41,
   "metadata": {
    "collapsed": false,
    "deletable": true,
    "editable": true
   },
   "outputs": [],
   "source": [
    "# compute M inverse\n",
    "M_inverse = M.inverse()"
   ]
  },
  {
   "cell_type": "code",
   "execution_count": 42,
   "metadata": {
    "collapsed": false,
    "deletable": true,
    "editable": true
   },
   "outputs": [
    {
     "name": "stdout",
     "output_type": "stream",
     "text": [
      "Confirm the inverse: \n",
      "[1 0]\n",
      "[0 1]\n"
     ]
    }
   ],
   "source": [
    "# Confirm  M_inverse \n",
    "print \"Confirm the inverse: \\n\", M_inverse * M"
   ]
  },
  {
   "cell_type": "code",
   "execution_count": 43,
   "metadata": {
    "collapsed": false,
    "deletable": true,
    "editable": true
   },
   "outputs": [],
   "source": [
    "# Compute Q and Q_inverse\n",
    "Q =  M_inverse * Y"
   ]
  },
  {
   "cell_type": "code",
   "execution_count": 44,
   "metadata": {
    "collapsed": false,
    "deletable": true,
    "editable": true
   },
   "outputs": [
    {
     "data": {
      "text/plain": [
       "[  57718411728003257784457572133067111809296142547520]\n",
       "[8992513599514379926053270173081853588606217274884380]"
      ]
     },
     "execution_count": 44,
     "metadata": {},
     "output_type": "execute_result"
    }
   ],
   "source": [
    "Q"
   ]
  },
  {
   "cell_type": "code",
   "execution_count": 45,
   "metadata": {
    "collapsed": false,
    "deletable": true,
    "editable": true
   },
   "outputs": [
    {
     "data": {
      "text/plain": [
       "True"
      ]
     },
     "execution_count": 45,
     "metadata": {},
     "output_type": "execute_result"
    }
   ],
   "source": [
    "# Verify Q is correct. \n",
    "# Using M* Q should return true \n",
    "\n",
    "M * Q == Y "
   ]
  },
  {
   "cell_type": "code",
   "execution_count": null,
   "metadata": {
    "collapsed": true,
    "deletable": true,
    "editable": true
   },
   "outputs": [],
   "source": []
  },
  {
   "cell_type": "code",
   "execution_count": 46,
   "metadata": {
    "collapsed": false,
    "deletable": true,
    "editable": true
   },
   "outputs": [],
   "source": [
    "Q1a1 = 54296442266677581446281052516352573191115346750662600;\n",
    "Q1a2 = 15653053127363916075896277170178676443530012934737100"
   ]
  },
  {
   "cell_type": "code",
   "execution_count": 53,
   "metadata": {
    "collapsed": true
   },
   "outputs": [],
   "source": [
    "Q1a1 = 57718411728003257784457572133067111809296142547520;\n",
    "Q1a2 = 8992513599514379926053270173081853588606217274884380"
   ]
  },
  {
   "cell_type": "code",
   "execution_count": 54,
   "metadata": {
    "collapsed": false,
    "deletable": true,
    "editable": true
   },
   "outputs": [],
   "source": [
    "Q1b = gcd(Q1a1,Q1a2)"
   ]
  },
  {
   "cell_type": "code",
   "execution_count": 55,
   "metadata": {
    "collapsed": false,
    "deletable": true,
    "editable": true
   },
   "outputs": [
    {
     "name": "stdout",
     "output_type": "stream",
     "text": [
      "the gcd  is :  10223786770893149161020\n"
     ]
    }
   ],
   "source": [
    "print \"the gcd  is : \" , Q1b"
   ]
  },
  {
   "cell_type": "markdown",
   "metadata": {
    "deletable": true,
    "editable": true
   },
   "source": [
    "### Task 2"
   ]
  },
  {
   "cell_type": "code",
   "execution_count": 56,
   "metadata": {
    "collapsed": false,
    "deletable": true,
    "editable": true
   },
   "outputs": [],
   "source": [
    "# w1 . z1 ≡ u1 (mod Q1b)\n",
    "# We can use the theorems\n",
    "# Important theorem :\n",
    "# Theorem 1: If ac ≡ bc (mod m) and gcd(c, m) = 1, then a≡b (modm).\n",
    "#  Theorem 2: If ac ≡ bc (mod m) and gcd(c, m) = d, then a ≡ b (mod (m/d))\n",
    "# m/d and c/d are relatively prime are relatively prime from theorem 1\n"
   ]
  },
  {
   "cell_type": "code",
   "execution_count": 57,
   "metadata": {
    "collapsed": false,
    "deletable": true,
    "editable": true
   },
   "outputs": [
    {
     "name": "stdout",
     "output_type": "stream",
     "text": [
      "gcd of Q1b and w1  2\n",
      "gcd of Q1b and w1 divides u1. The remainder of u1 mod 2 is zero : 0\n"
     ]
    }
   ],
   "source": [
    "######## Solution exist ########\n",
    "# Similar to the question on exercise requirement test.\n",
    "# We can compute the gcd of (Q1b, w1 )\n",
    "# Then verify that, this   divides u1\n",
    "print \"gcd of Q1b and w1 \", gcd(Q1b, w1) \n",
    "print \"gcd of Q1b and w1 divides u1. The remainder of u1 mod 2 is zero :\", mod(u1,2)"
   ]
  },
  {
   "cell_type": "code",
   "execution_count": 58,
   "metadata": {
    "collapsed": true,
    "deletable": true,
    "editable": true
   },
   "outputs": [],
   "source": [
    "# Follwoing theorem 1\n",
    "########################\n",
    "# compute gcd of (u1,w1)\n"
   ]
  },
  {
   "cell_type": "code",
   "execution_count": 59,
   "metadata": {
    "collapsed": false,
    "deletable": true,
    "editable": true
   },
   "outputs": [
    {
     "name": "stdout",
     "output_type": "stream",
     "text": [
      "greatest common factor of u1 and w1:  2\n"
     ]
    }
   ],
   "source": [
    "print \"greatest common factor of u1 and w1: \", gcd(u1,w1);"
   ]
  },
  {
   "cell_type": "code",
   "execution_count": 60,
   "metadata": {
    "collapsed": false,
    "deletable": true,
    "editable": true
   },
   "outputs": [],
   "source": [
    "# Using theorem 2 #\n",
    "#########################\n",
    "# Check if gcd of 2 and Q1b is one"
   ]
  },
  {
   "cell_type": "code",
   "execution_count": 61,
   "metadata": {
    "collapsed": false,
    "deletable": true,
    "editable": true
   },
   "outputs": [
    {
     "name": "stdout",
     "output_type": "stream",
     "text": [
      "The gcd of 2 and Q1b is :  2\n"
     ]
    }
   ],
   "source": [
    "print \"The gcd of 2 and Q1b is : \", gcd(Q1b,2)"
   ]
  },
  {
   "cell_type": "code",
   "execution_count": 62,
   "metadata": {
    "collapsed": false,
    "deletable": true,
    "editable": true
   },
   "outputs": [
    {
     "name": "stdout",
     "output_type": "stream",
     "text": [
      "The gcd of 2/2 and Q1b/2 is :  1\n"
     ]
    }
   ],
   "source": [
    "# Then confirm gcd(c/d,m/d) is 1\n",
    "print \"The gcd of 2/2 and Q1b/2 is : \", gcd(Q1b/2,2/2)"
   ]
  },
  {
   "cell_type": "code",
   "execution_count": 63,
   "metadata": {
    "collapsed": false,
    "deletable": true,
    "editable": true
   },
   "outputs": [
    {
     "name": "stdout",
     "output_type": "stream",
     "text": [
      "Divide out  2 from the common integers following theorem 2 \n",
      "\n",
      "u1 divided by 2, u_1=  936977098893092502736\n",
      "w1 divided by 2, w_1=  568893998806749147941\n",
      "Q1b divided by 2, Q1b_1=  5111893385446574580510\n"
     ]
    }
   ],
   "source": [
    "### Divide out the common factor\n",
    "##  Following theorem 2\n",
    "print \"Divide out  2 from the common integers following theorem 2 \\n\";\n",
    "\n",
    "u_1 = ZZ(u1/2);\n",
    "print \"u1 divided by 2, u_1= \",u_1;\n",
    "w1_1=ZZ(w1/2);\n",
    "print \"w1 divided by 2, w_1= \",w1_1;\n",
    "Q1b_1 = ZZ(Q1b/2) \n",
    "print  \"Q1b divided by 2, Q1b_1= \" ,Q1b_1\n"
   ]
  },
  {
   "cell_type": "code",
   "execution_count": 64,
   "metadata": {
    "collapsed": false,
    "deletable": true,
    "editable": true
   },
   "outputs": [
    {
     "name": "stdout",
     "output_type": "stream",
     "text": [
      "the gcd of w1_1 and u_1 is:  1\n"
     ]
    }
   ],
   "source": [
    "# Compute gcd of w1_1 and u_1 is : one (theorem 2)\n",
    "print \"the gcd of w1_1 and u_1 is: \", gcd(w1_1,u_1)\n",
    "#  And gcd of 1 and Q1b_1 is one.\n",
    "# gcd(1, Q1_b1) = 1, then w1_1≡u1_1 (modQ1b_1).\n",
    "# If this returns another value, we can still divide further"
   ]
  },
  {
   "cell_type": "code",
   "execution_count": 65,
   "metadata": {
    "collapsed": false,
    "deletable": true,
    "editable": true
   },
   "outputs": [
    {
     "name": "stdout",
     "output_type": "stream",
     "text": [
      "gcd of Q1b_1 and w1_1 is : 1\n"
     ]
    }
   ],
   "source": [
    "# gcd of  Q1b_1,w1_1 is one. Modular inverse computation can thus be carried out\n",
    "print \"gcd of Q1b_1 and w1_1 is :\",gcd(Q1b_1,w1_1)"
   ]
  },
  {
   "cell_type": "code",
   "execution_count": 66,
   "metadata": {
    "collapsed": false,
    "deletable": true,
    "editable": true
   },
   "outputs": [],
   "source": [
    "# Compute w1_1 inverse modulo Q1b_1\n",
    "inverse_w1_1 =  inverse_mod(ZZ(w1_1), ZZ(Q1b_1))"
   ]
  },
  {
   "cell_type": "code",
   "execution_count": 67,
   "metadata": {
    "collapsed": true,
    "deletable": true,
    "editable": true
   },
   "outputs": [],
   "source": [
    "#inverse_w1_1 =  inverse_mod(ZZ(w1), ZZ(Q1b))"
   ]
  },
  {
   "cell_type": "code",
   "execution_count": 68,
   "metadata": {
    "collapsed": false,
    "deletable": true,
    "editable": true
   },
   "outputs": [],
   "source": [
    "# the list of all z1"
   ]
  },
  {
   "cell_type": "code",
   "execution_count": 69,
   "metadata": {
    "collapsed": false,
    "deletable": true,
    "editable": true
   },
   "outputs": [],
   "source": [
    "# Multiply w1_1 and u_1 to get \n",
    "z1 = mod((inverse_w1_1*u_1),Q1b_1)"
   ]
  },
  {
   "cell_type": "code",
   "execution_count": 70,
   "metadata": {
    "collapsed": false,
    "deletable": true,
    "editable": true
   },
   "outputs": [],
   "source": [
    "# To compute all solutions\n",
    "# We solze  (z1 +  Q1b_l1 * k) mod Q1b"
   ]
  },
  {
   "cell_type": "code",
   "execution_count": 71,
   "metadata": {
    "collapsed": false,
    "deletable": true,
    "editable": true
   },
   "outputs": [
    {
     "name": "stdout",
     "output_type": "stream",
     "text": [
      "solution is :  [3402204931893646394426, 8514098317340220974936]\n"
     ]
    }
   ],
   "source": [
    "solution_collector = [];\n",
    "flag = True;\n",
    "first = True \n",
    "while flag:\n",
    "    while first==True:\n",
    "        \n",
    "        solution_collector.append(z1) # Append initial solution        \n",
    "        temp = mod((ZZ(z1) + ZZ(Q1b_1) ),Q1b) # compute z1 plus the Q1b_1 as explained\n",
    "        solution_collector.append(temp)\n",
    "        first = False;  # break out of this loop\n",
    "    if temp != z1: # check if the returned value is equal to initial value. At that point \n",
    "                    # we stop computation\n",
    "        temp = mod((ZZ(temp)+ZZ(Q1b_1)),Q1b) # add temp to new Q1b_1\n",
    "        solution_collector.append(temp); # append value\n",
    "        temp = temp; # set temp to new value and continue loop\n",
    "    else:\n",
    "        break;\n",
    "        \n",
    "print \"solution is : \", solution_collector    "
   ]
  },
  {
   "cell_type": "markdown",
   "metadata": {
    "deletable": true,
    "editable": true
   },
   "source": [
    "#  Exercise 4"
   ]
  },
  {
   "cell_type": "code",
   "execution_count": 151,
   "metadata": {
    "collapsed": true,
    "deletable": true,
    "editable": true
   },
   "outputs": [],
   "source": [
    "# Exercise 4 \n",
    "## encrypt a given word using the caesar cipher\n",
    "## Computation is done modulo 3\n",
    "## Note use of ord keyword to return ascii values. ASCII valus for \"A\" to \"Z\" are 65 to 90 \n",
    "## To get values between 0 and 65 subtract 65. Letters of alphabet are encoded as 0 to 25\n"
   ]
  },
  {
   "cell_type": "code",
   "execution_count": 8,
   "metadata": {
    "collapsed": false,
    "deletable": true,
    "editable": true
   },
   "outputs": [],
   "source": [
    "def str2Int(s):\n",
    "    '''\n",
    "    return integer representantion of the letters \n",
    "    The values should be between 0 and 25\n",
    "    \n",
    "    input: string of characters.\n",
    "    output: integers representation (0 to 25) of the string input.  \n",
    "    '''\n",
    "    whiteSpaceNo = 26; # handle whitespace separatelt since it is not contiguous with the other alphabets.\n",
    "    Substract = 97 ; # substract this value from ord to get a value between 0 and 25\n",
    "    encode =[];\n",
    "    for x in s:\n",
    "            if ord(x)==ord(\" \"):\n",
    "                encode.append(whiteSpaceNo)\n",
    "            else:\n",
    "                new = ord(x)-Substract\n",
    "                encode.append(new)\n",
    "                \n",
    "    return encode\n",
    "        "
   ]
  },
  {
   "cell_type": "code",
   "execution_count": 8,
   "metadata": {
    "collapsed": false,
    "deletable": true,
    "editable": true
   },
   "outputs": [
    {
     "data": {
      "text/plain": [
       "[4, 26, 4, 26, 4, 26]"
      ]
     },
     "execution_count": 8,
     "metadata": {},
     "output_type": "execute_result"
    }
   ],
   "source": [
    "str2Int(\"e e e \") # test the function"
   ]
  },
  {
   "cell_type": "code",
   "execution_count": 9,
   "metadata": {
    "collapsed": false,
    "deletable": true,
    "editable": true
   },
   "outputs": [],
   "source": [
    "def Int2str(lst):\n",
    "    '''\n",
    "    convert values after encryption to letters.\n",
    "    Note 65 is added to the character representation.\n",
    "    \n",
    "    input: integer values between 0 and 25. White space is 26.\n",
    "    output : string. \n",
    "    \n",
    "    '''\n",
    "    temp = [] # store integer string \n",
    "    whiteSpaceNo = 26;\n",
    "    \n",
    "    for x in lst: \n",
    "        if x==whiteSpaceNo:\n",
    "            temp.append([chr(int(x)+6)]) # ord white space is 32\n",
    "     \n",
    "        else:\n",
    "            temp.append([chr(int(x)+97)])\n",
    "            \n",
    "    my_list = [l[0] for l in temp] # strip square bracket in the list\n",
    "    \n",
    "    return \"\".join(f for f in my_list), my_list"
   ]
  },
  {
   "cell_type": "code",
   "execution_count": 26,
   "metadata": {
    "collapsed": false,
    "deletable": true,
    "editable": true
   },
   "outputs": [
    {
     "data": {
      "text/plain": [
       "('e e e ', ['e', ' ', 'e', ' ', 'e', ' '])"
      ]
     },
     "execution_count": 26,
     "metadata": {},
     "output_type": "execute_result"
    }
   ],
   "source": [
    "Int2str([4, 26, 4, 26, 4, 26]) # test the function. NOTE  function returns both\n",
    "                                # comma separated values and the values without without the comma.\n",
    "                                # ie a concatenatin of characters"
   ]
  },
  {
   "cell_type": "code",
   "execution_count": 27,
   "metadata": {
    "collapsed": false,
    "deletable": true,
    "editable": true
   },
   "outputs": [
    {
     "name": "stdout",
     "output_type": "stream",
     "text": [
      "Encryption of word4 is:,  [8, 13, 2, 14, 17, 15, 14, 17, 0, 19, 4, 3]\n"
     ]
    }
   ],
   "source": [
    "# Encryption of word 4\n",
    "word4= 'incorporated'\n",
    "# Using the str to Int function\n",
    "word4_encryption = str2Int(word4)\n",
    "print \"Encryption of word4 is:, \", word4_encryption"
   ]
  },
  {
   "cell_type": "code",
   "execution_count": 28,
   "metadata": {
    "collapsed": false,
    "deletable": true,
    "editable": true
   },
   "outputs": [
    {
     "name": "stdout",
     "output_type": "stream",
     "text": [
      "Decryption of word4 is:,  ('perching', ['p', 'e', 'r', 'c', 'h', 'i', 'n', 'g'])\n"
     ]
    }
   ],
   "source": [
    "# Decode encoded4= [15, 4, 17, 2, 7, 8, 13, 6]\n",
    "encoded4= [15, 4, 17, 2, 7, 8, 13, 6]\n",
    "encoded4_decoded = Int2str(encoded4)\n",
    "print \"Decryption of word4 is:, \", encoded4_decoded"
   ]
  },
  {
   "cell_type": "code",
   "execution_count": 49,
   "metadata": {
    "collapsed": true,
    "deletable": true,
    "editable": true
   },
   "outputs": [],
   "source": [
    "C4= [19, 13, 26, 3, 26, 14, 5, 7, 10, 14, 7, 14, 19, 7, 11, 6, 26, 14, 10, 26, 19, 14, 15, 22, 19, 14, 22, 0, 4, 26, 3, 14, 7, 14, 19, 3, 26, 26, 14, 25, 0, 14, 9, 3, 15, 0, 19, 14, 15, 9, 14, 19, 13, 26, 14, 13, 15, 22, 10, 26, 14, 7, 0, 4, 14, 19, 13, 26, 14, 21, 7, 3, 1, 13, 14, 13, 7, 3, 26, 14, 7, 0, 4, 14, 19, 13, 26, 14, 13, 7, 19, 19, 26, 3, 14, 5, 26, 3, 26, 14, 13, 7, 20, 25, 0, 18, 14, 19, 26, 7, 14, 7, 19, 14, 25, 19, 14, 7, 14, 4, 15, 3, 21, 15, 22, 10, 26, 14, 5, 7, 10, 14, 10, 25, 19, 19, 25, 0, 18, 14, 11, 26, 19, 5, 26, 26, 0, 14, 19, 13, 26, 21, 14, 9, 7, 10, 19, 14, 7, 10, 6, 26, 26, 16, 14, 7, 0, 4, 14, 19, 13, 26, 14, 15, 19, 13, 26, 3, 14, 19, 5, 15, 14, 5, 26, 3, 26, 14, 22, 10, 25, 0, 18, 14, 25, 19, 14, 7, 10, 14, 7, 14, 1, 22, 10, 13, 25, 15, 0, 14, 3, 26, 10, 19, 25, 0, 18, 14, 19, 13, 26, 25, 3, 14, 26, 6, 11, 15, 5, 10, 14, 15, 0, 14, 25, 19, 14, 7, 0, 4, 14, 19, 7, 6, 23, 25, 0, 18, 14, 15, 20, 26, 3, 14, 25, 19, 10, 14, 13, 26, 7, 4, 14, 20, 26, 3, 12, 14, 22, 0, 1, 15, 21, 9, 15, 3, 19, 7, 11, 6, 26, 14, 9, 15, 3, 14, 19, 13, 26, 14, 4, 15, 3, 21, 15, 22, 10, 26, 14, 19, 13, 15, 22, 18, 13, 19, 14, 7, 6, 25, 1, 26, 14, 15, 0, 6, 12, 14, 7, 10, 14, 25, 19, 10, 14, 7, 10, 6, 26, 26, 16, 14, 25, 14, 10, 22, 16, 16, 15, 10, 26, 14, 25, 19, 14, 4, 15, 26, 10, 0, 19, 14, 21, 25, 0, 4, 14, 19, 13, 26, 14, 19, 7, 11, 6, 26, 14, 5, 7, 10, 14, 7, 14, 6, 7, 3, 18, 26, 14, 15, 0, 26, 14, 11, 22, 19, 14, 19, 13, 26, 14, 19, 13, 3, 26, 26, 14, 5, 26, 3, 26, 14, 7, 6, 6, 14, 1, 3, 15, 5, 4, 26, 4, 14, 19, 15, 18, 26, 19, 13, 26, 3, 14, 7, 19, 14, 15, 0, 26, 14, 1, 15, 3, 0, 26, 3, 14, 15, 9, 14, 25, 19, 14, 0, 15, 14, 3, 15, 15, 21, 14, 0, 15, 14, 3, 15, 15, 21, 14, 19, 13, 26, 12, 14, 1, 3, 25, 26, 4, 14, 15, 22, 19, 14, 5, 13, 26, 0, 14, 19, 13, 26, 12, 14, 10, 7, 5, 14, 7, 6, 25, 1, 26, 14, 1, 15, 21, 25, 0, 18, 14, 19, 13, 26, 3, 26, 10, 14, 16, 6, 26, 0, 19, 12, 14, 15, 9, 14, 3, 15, 15, 21, 14, 10, 7, 25, 4, 14, 7, 6, 25, 1, 26, 14, 25, 0, 4, 25, 18, 0, 7, 0, 19, 6, 12, 14, 7, 0, 4, 14, 10, 13, 26, 14, 10, 7, 19, 14, 4, 15, 5, 0, 14, 25, 0, 14, 7, 14, 6, 7, 3, 18, 26, 14, 7, 3, 21, 1, 13, 7, 25, 3, 14, 7, 19, 14, 15, 0, 26, 14, 26, 0, 4, 14, 15, 9, 14, 19, 13, 26, 14, 19, 7, 11, 6, 26, 14, 13, 7, 20, 26, 14, 10, 15, 21, 26, 14, 5, 25, 0, 26, 14, 19, 13, 26, 14, 21, 7, 3, 1, 13, 14, 13, 7, 3, 26, 14, 10, 7, 25, 4, 14, 25, 0, 14, 7, 0, 14, 26, 0, 1, 15, 22, 3, 7, 18, 25, 0, 18, 14, 19, 15, 0, 26, 14, 7, 6, 25, 1, 26, 14, 6, 15, 15, 23, 26, 4, 14, 7, 6, 6, 14, 3, 15, 22, 0, 4, 14, 19, 13, 26, 14, 19, 7, 11, 6, 26, 14, 11, 22, 19, 14, 19, 13, 26, 3, 26, 14, 5, 7, 10, 14, 0, 15, 19, 13, 25, 0, 18, 14, 15, 0, 14, 25, 19, 14, 11, 22, 19, 14, 19, 26, 7, 14, 25, 14, 4, 15, 0, 19, 14, 10, 26, 26, 14, 7, 0, 12, 14, 5, 25, 0, 26, 14, 10, 13, 26, 14, 3, 26, 21, 7, 3, 23, 26, 4, 14, 19, 13, 26, 3, 26, 14, 25, 10, 0, 19, 14, 7, 0, 12, 14, 10, 7, 25, 4, 14, 19, 13, 26, 14, 21, 7, 3, 1, 13, 14, 13, 7, 3, 26, 14, 19, 13, 26, 0, 14, 25, 19, 14, 5, 7, 10, 0, 19, 14, 20, 26, 3, 12, 14, 1, 25, 20, 25, 6, 14, 15, 9, 14, 12, 15, 22, 14, 19, 15, 14, 15, 9, 9, 26, 3, 14, 25, 19, 14, 10, 7, 25, 4, 14, 7, 6, 25, 1, 26, 14, 7, 0, 18, 3, 25, 6, 12, 14, 25, 19, 14, 5, 7, 10, 0, 19, 14, 20, 26, 3, 12, 14, 1, 25, 20, 25, 6, 14, 15, 9, 14, 12, 15, 22, 14, 19, 15, 14, 10, 25, 19, 14, 4, 15, 5, 0, 14, 5, 25, 19, 13, 15, 22, 19, 14, 11, 26, 25, 0, 18, 14, 25, 0, 20, 25, 19, 26, 4, 14, 10, 7, 25, 4, 14, 19, 13, 26, 14, 21, 7, 3, 1, 13, 14, 13, 7, 3, 26, 14, 25, 14, 4, 25, 4, 0, 19, 14, 23, 0, 15, 5, 14, 25, 19, 14, 5, 7, 10, 14, 12, 15, 22, 3, 14, 19, 7, 11, 6, 26, 14, 10, 7, 25, 4, 14, 7, 6, 25, 1, 26, 14, 25, 19, 10, 14, 6, 7, 25, 4, 14, 9, 15, 3, 14, 7, 14, 18, 3, 26, 7, 19, 14, 21, 7, 0, 12, 14, 21, 15, 3, 26, 14, 19, 13, 7, 0, 14, 19, 13, 3, 26, 26, 14, 12, 15, 22, 3, 14, 13, 7, 25, 3, 14, 5, 7, 0, 19, 10, 14, 1, 22, 19, 19, 25, 0, 18, 14, 10, 7, 25, 4, 14, 19, 13, 26, 14, 13, 7, 19, 19, 26, 3, 14, 13, 26, 14, 13, 7, 4, 14, 11, 26, 26, 0, 14, 6, 15, 15, 23, 25, 0, 18, 14, 7, 19, 14, 7, 6, 25, 1, 26, 14, 9, 15, 3, 14, 10, 15, 21, 26, 14, 19, 25, 21, 26, 14, 5, 25, 19, 13, 14, 18, 3, 26, 7, 19, 14, 1, 22, 3, 25, 15, 10, 25, 19, 12, 14, 7, 0, 4, 14, 19, 13, 25, 10, 14, 5, 7, 10, 14, 13, 25, 10, 14, 9, 25, 3, 10, 19, 14, 10, 16, 26, 26, 1, 13, 14, 12, 15, 22, 14, 10, 13, 15, 22, 6, 4, 14, 6, 26, 7, 3, 0, 14, 0, 15, 19, 14, 19, 15, 14, 21, 7, 23, 26, 14, 16, 26, 3, 10, 15, 0, 7, 6, 14, 3, 26, 21, 7, 3, 23, 10, 14, 7, 6, 25, 1, 26, 14, 10, 7, 25, 4, 14, 5, 25, 19, 13, 14, 10, 15, 21, 26, 14, 10, 26, 20, 26, 3, 25, 19, 12, 14, 25, 19, 10, 14, 20, 26, 3, 12, 14, 3, 22, 4, 26, 14, 19, 13, 26, 14, 13, 7, 19, 19, 26, 3, 14, 15, 16, 26, 0, 26, 4, 14, 13, 25, 10, 14, 26, 12, 26, 10, 14, 20, 26, 3, 12, 14, 5, 25, 4, 26, 14, 15, 0, 14, 13, 26, 7, 3, 25, 0, 18, 14, 19, 13, 25, 10, 14, 11, 22, 19, 14, 7, 6, 6, 14, 13, 26, 14, 10, 7, 25, 4, 14, 5, 7, 10, 14, 5, 13, 12, 14, 25, 10, 14, 7, 14, 3, 7, 20, 26, 0, 14, 6, 25, 23, 26, 14, 7, 14, 5, 3, 25, 19, 25, 0, 18, 4, 26, 10, 23, 14, 1, 15, 21, 26, 14, 5, 26, 14, 10, 13, 7, 6, 6, 14, 13, 7, 20, 26, 14, 10, 15, 21, 26, 14, 9, 22, 0, 14, 0, 15, 5, 14, 19, 13, 15, 22, 18, 13, 19, 14, 7, 6, 25, 1, 26, 14, 25, 21, 14, 18, 6, 7, 4, 14, 19, 13, 26, 12, 20, 26, 14, 11, 26, 18, 22, 0, 14, 7, 10, 23, 25, 0, 18, 14, 3, 25, 4, 4, 6, 26, 10, 14, 25, 14, 11, 26, 6, 25, 26, 20, 26, 14, 25, 14, 1, 7, 0, 14, 18, 22, 26, 10, 10, 14, 19, 13, 7, 19, 14, 10, 13, 26, 14, 7, 4, 4, 26, 4, 14, 7, 6, 15, 22, 4, 14, 4, 15, 14, 12, 15, 22, 14, 21, 26, 7, 0, 14, 19, 13, 7, 19, 14, 12, 15, 22, 14, 19, 13, 25, 0, 23, 14, 12, 15, 22, 14, 1, 7, 0, 14, 9, 25, 0, 4, 14, 15, 22, 19, 14, 19, 13, 26, 14, 7, 0, 10, 5, 26, 3, 14, 19, 15, 14, 25, 19, 14, 10, 7, 25, 4, 14, 19, 13, 26, 14, 21, 7, 3, 1, 13, 14, 13, 7, 3, 26, 14, 26, 17, 7, 1, 19, 6, 12, 14, 10, 15, 14, 10, 7, 25, 4, 14, 7, 6, 25, 1, 26, 14, 19, 13, 26, 0, 14, 12, 15, 22, 14, 10, 13, 15, 22, 6, 4, 14, 10, 7, 12, 14, 5, 13, 7, 19, 14, 12, 15, 22, 14, 21, 26, 7, 0, 14, 19, 13, 26, 14, 21, 7, 3, 1, 13, 14, 13, 7, 3, 26, 14, 5, 26, 0, 19, 14, 15, 0, 14, 25, 14, 4, 15, 14, 7, 6, 25, 1, 26, 14, 13, 7, 10, 19, 25, 6, 12, 14, 3, 26, 16, 6, 25, 26, 4, 14, 7, 19, 14, 6, 26, 7, 10, 19, 7, 19, 14, 6, 26, 7, 10, 19, 14, 25, 14, 21, 26, 7, 0, 14, 5, 13, 7, 19, 14, 25, 14, 10, 7, 12, 19, 13, 7, 19, 10, 14, 19, 13, 26, 14, 10, 7, 21, 26, 14, 19, 13, 25, 0, 18, 14, 12, 15, 22, 14, 23, 0, 15, 5, 14, 0, 15, 19, 14, 19, 13, 26, 14, 10, 7, 21, 26, 14, 19, 13, 25, 0, 18, 14, 7, 14, 11, 25, 19, 14, 10, 7, 25, 4, 14, 19, 13, 26, 14, 13, 7, 19, 19, 26, 3, 14, 12, 15, 22, 14, 21, 25, 18, 13, 19, 14, 8, 22, 10, 19, 14, 7, 10, 14, 5, 26, 6, 6, 14, 10, 7, 12, 14, 19, 13, 7, 19, 14, 25, 14, 10, 26, 26, 14, 5, 13, 7, 19, 14, 25, 14, 26, 7, 19, 14, 25, 10, 14, 19, 13, 26, 14, 10, 7, 21, 26, 14, 19, 13, 25, 0, 18, 14, 7, 10, 14, 25, 14, 26, 7, 19, 14, 5, 13, 7, 19, 14, 25, 14, 10, 26, 26, 14, 12, 15, 22, 14, 21, 25, 18, 13, 19, 14, 8, 22, 10, 19, 14, 7, 10, 14, 5, 26, 6, 6, 14, 10, 7, 12, 14, 7, 4, 4, 26, 4, 14, 19, 13, 26, 14, 21, 7, 3, 1, 13, 14, 13, 7, 3, 26, 14, 19, 13, 7, 19, 14, 25, 14, 6, 25, 23, 26, 14, 5, 13, 7, 19, 14, 25, 14, 18, 26, 19, 14, 25, 10, 14, 19, 13, 26, 14, 10, 7, 21, 26, 14, 19, 13, 25, 0, 18, 14, 7, 10, 14, 25, 14, 18, 26, 19, 14, 5, 13, 7, 19, 14, 25, 14, 6, 25, 23, 26, 14, 12, 15, 22, 14, 21, 25, 18, 13, 19, 14, 8, 22, 10, 19, 14, 7, 10, 14, 5, 26, 6, 6, 14, 10, 7, 12, 14, 7, 4, 4, 26, 4, 14, 19, 13, 26, 14, 4, 15, 3, 21, 15, 22, 10, 26, 14, 5, 13, 15, 14, 10, 26, 26, 21, 26, 4, 14, 19, 15, 14, 11, 26, 14, 19, 7, 6, 23, 25, 0, 18, 14, 25, 0, 14, 13, 25, 10, 14, 10, 6, 26, 26, 16, 14, 19, 13, 7, 19, 14, 25, 14, 11, 3, 26, 7, 19, 13, 26, 14, 5, 13, 26, 0, 14, 25, 14, 10, 6, 26, 26, 16, 14, 25, 10, 14, 19, 13, 26, 14, 10, 7, 21, 26, 14, 19, 13, 25, 0, 18, 14, 7, 10, 14, 25, 14, 10, 6, 26, 26, 16, 14, 5, 13, 26, 0, 14, 25, 14, 11, 3, 26, 7, 19, 13, 26, 14, 25, 19, 14, 25, 10, 14, 19, 13, 26, 14, 10, 7, 21, 26, 14, 19, 13, 25, 0, 18, 14, 5, 25, 19, 13, 14, 12, 15, 22, 14, 10, 7, 25, 4, 14, 19, 13, 26, 14, 13, 7, 19, 19, 26, 3, 14, 7, 0, 4, 14, 13, 26, 3, 26, 14, 19, 13, 26, 14, 1, 15, 0, 20, 26, 3, 10, 7, 19, 25, 15, 0, 14, 4, 3, 15, 16, 16, 26, 4, 14, 7, 0, 4, 14, 19, 13, 26, 14, 16, 7, 3, 19, 12, 14, 10, 7, 19, 14, 10, 25, 6, 26, 0, 19, 14, 9, 15, 3, 14, 7, 14, 21, 25, 0, 22, 19, 26, 14, 5, 13, 25, 6, 26, 14, 7, 6, 25, 1, 26, 14, 19, 13, 15, 22, 18, 13, 19, 14, 15, 20, 26, 3, 14, 7, 6, 6, 14, 10, 13, 26, 14, 1, 15, 22, 6, 4, 14, 3, 26, 21, 26, 21, 11, 26, 3, 14, 7, 11, 15, 22, 19, 14, 3, 7, 20, 26, 0, 10, 14, 7, 0, 4, 14, 5, 3, 25, 19, 25, 0, 18, 4, 26, 10, 23, 10, 14, 5, 13, 25, 1, 13, 14, 5, 7, 10, 0, 19, 14, 21, 22, 1, 13, 14, 19, 13, 26, 14, 13, 7, 19, 19, 26, 3, 14, 5, 7, 10, 14, 19, 13, 26, 14, 9, 25, 3, 10, 19, 14, 19, 15, 14, 11, 3, 26, 7, 23, 14, 19, 13, 26, 14, 10, 25, 6, 26, 0, 1, 26, 14, 5, 13, 7, 19, 14, 4, 7, 12, 14, 15, 9, 14, 19, 13, 26, 14, 21, 15, 0, 19, 13, 14, 25, 10, 14, 25, 19, 14, 13, 26, 14, 10, 7, 25, 4, 14, 19, 22, 3, 0, 25, 0, 18, 14, 19, 15, 14, 7, 6, 25, 1, 26, 14, 13, 26, 14, 13, 7, 4, 14, 19, 7, 23, 26, 0, 14, 13, 25, 10, 14, 5, 7, 19, 1, 13, 14, 15, 22, 19, 14, 15, 9, 14, 13, 25, 10, 14, 16, 15, 1, 23, 26, 19, 14, 7, 0, 4, 14, 5, 7, 10, 14, 6, 15, 15, 23, 25, 0, 18, 14, 7, 19, 14, 25, 19, 14, 22, 0, 26, 7, 10, 25, 6, 12, 14, 10, 13, 7, 23, 25, 0, 18, 14, 25, 19, 14, 26, 20, 26, 3, 12, 14, 0, 15, 5, 14, 7, 0, 4, 14, 19, 13, 26, 0, 14, 7, 0, 4, 14, 13, 15, 6, 4, 25, 0, 18, 14, 25, 19, 14, 19, 15, 14, 13, 25, 10, 14, 26, 7, 3, 14, 7, 6, 25, 1, 26, 14, 1, 15, 0, 10, 25, 4, 26, 3, 26, 4, 14, 7, 14, 6, 25, 19, 19, 6, 26, 14, 7, 0, 4, 14, 19, 13, 26, 0, 14, 10, 7, 25, 4, 14, 19, 13, 26, 14, 9, 15, 22, 3, 19, 13, 14, 19, 5, 15, 14, 4, 7, 12, 10, 14, 5, 3, 15, 0, 18, 14, 10, 25, 18, 13, 26, 4, 14, 19, 13, 26, 14, 13, 7, 19, 19, 26, 3, 14, 25, 14, 19, 15, 6, 4, 14, 12, 15, 22, 14, 11, 22, 19, 19, 26, 3, 14, 5, 15, 22, 6, 4, 0, 19, 14, 10, 22, 25, 19, 14, 19, 13, 26, 14, 5, 15, 3, 23, 10, 14, 13, 26, 14, 7, 4, 4, 26, 4, 14, 6, 15, 15, 23, 25, 0, 18, 14, 7, 0, 18, 3, 25, 6, 12, 14, 7, 19, 14, 19, 13, 26, 14, 21, 7, 3, 1, 13, 14, 13, 7, 3, 26, 14, 25, 19, 14, 5, 7, 10, 14, 19, 13, 26, 14, 11, 26, 10, 19, 14, 11, 22, 19, 19, 26, 3, 14, 19, 13, 26, 14, 21, 7, 3, 1, 13, 14, 13, 7, 3, 26, 14, 21, 26, 26, 23, 6, 12, 14, 3, 26, 16, 6, 25, 26, 4, 14, 12, 26, 10, 14, 11, 22, 19, 14, 10, 15, 21, 26, 14, 1, 3, 22, 21, 11, 10, 14, 21, 22, 10, 19, 14, 13, 7, 20, 26, 14, 18, 15, 19, 14, 25, 0, 14, 7, 10, 14, 5, 26, 6, 6, 14, 19, 13, 26, 14, 13, 7, 19, 19, 26, 3, 14, 18, 3, 22, 21, 11, 6, 26, 4, 14, 12, 15, 22, 14, 10, 13, 15, 22, 6, 4, 0, 19, 14, 13, 7, 20, 26, 14, 16, 22, 19, 14, 25, 19, 14, 25, 0, 14, 5, 25, 19, 13, 14, 19, 13, 26, 14, 11, 3, 26, 7, 4, 23, 0, 25, 9, 26, 14, 19, 13, 26, 14, 21, 7, 3, 1, 13, 14, 13, 7, 3, 26, 14, 19, 15, 15, 23, 14, 19, 13, 26, 14, 5, 7, 19, 1, 13, 14, 7, 0, 4, 14, 6, 15, 15, 23, 26, 4, 14, 7, 19, 14, 25, 19, 14, 18, 6, 15, 15, 21, 25, 6, 12, 14, 19, 13, 26, 0, 14, 13, 26, 14, 4, 25, 16, 16, 26, 4, 14, 25, 19, 14, 25, 0, 19, 15, 14, 13, 25, 10, 14, 1, 22, 16, 14, 15, 9, 14, 19, 26, 7, 14, 7, 0, 4, 14, 6, 15, 15, 23, 26, 4, 14, 7, 19, 14, 25, 19, 14, 7, 18, 7, 25, 0, 14, 11, 22, 19, 14, 13, 26, 14, 1, 15, 22, 6, 4, 14, 19, 13, 25, 0, 23, 14, 15, 9, 14, 0, 15, 19, 13, 25, 0, 18, 14, 11, 26, 19, 19, 26, 3, 14, 19, 15, 14, 10, 7, 12, 14, 19, 13, 7, 0, 14, 13, 25, 10, 14, 9, 25, 3, 10, 19, 14, 3, 26, 21, 7, 3, 23, 14, 25, 19, 14, 5, 7, 10, 14, 19, 13, 26, 14, 11, 26, 10, 19, 14, 11, 22, 19, 19, 26, 3, 14, 12, 15, 22, 14, 23, 0, 15, 5, 14, 7, 6, 25, 1, 26, 14, 13, 7, 4, 14, 11, 26, 26, 0, 14, 6, 15, 15, 23, 25, 0, 18, 14, 15, 20, 26, 3, 14, 13, 25, 10, 14, 10, 13, 15, 22, 6, 4, 26, 3, 14, 5, 25, 19, 13, 14, 10, 15, 21, 26, 14, 1, 22, 3, 25, 15, 10, 25, 19, 12, 14, 5, 13, 7, 19, 14, 7, 14, 9, 22, 0, 0, 12, 14, 5, 7, 19, 1, 13, 14, 10, 13, 26, 14, 3, 26, 21, 7, 3, 23, 26, 4, 14, 25, 19, 14, 19, 26, 6, 6, 10, 14, 19, 13, 26, 14, 4, 7, 12, 14, 15, 9, 14, 19, 13, 26, 14, 21, 15, 0, 19, 13, 14, 7, 0, 4, 14, 4, 15, 26, 10, 0, 19, 14, 19, 26, 6, 6, 14, 5, 13, 7, 19, 14, 15, 1, 6, 15, 1, 23, 14, 25, 19, 14, 25, 10, 14]\n",
    "hint4= [-1, 11, 1, -1, -1, 9, 18, 13, 25, -1, 23, -1, -1, 0, 15, 16, -1, -1, -1, -1, -1, -1, 5, 17, 12, 2, -1]"
   ]
  },
  {
   "cell_type": "markdown",
   "metadata": {
    "deletable": true,
    "editable": true
   },
   "source": [
    "###  Solution is to Do frequency analysis"
   ]
  },
  {
   "cell_type": "code",
   "execution_count": 44,
   "metadata": {
    "collapsed": false,
    "deletable": true,
    "editable": true
   },
   "outputs": [],
   "source": [
    "# letterfreq lists the letters a-z, listed in decreasing order of frequency, \n",
    "# as given in note.\n",
    "letter = ['a','b','c','d','e','f','g','h','i','j','k','l','m','n','o','p','q','r','s','t','u','v','w','x','y','z']\n",
    "frequency = ['0.082','0.015','0.028','0.043','0.127','0.022','0.020','0.061','0.070','0.002','0.008','0.040','0.024','0.067',\n",
    "             '0.075','0.019','0.001','0.060','0.063','0.091','0.028','0.010','0.023','0.001','0.020','0.001' ]\n",
    "letterfrequency= parameter_dict = dict( zip(letter, frequency ) )"
   ]
  },
  {
   "cell_type": "code",
   "execution_count": 45,
   "metadata": {
    "collapsed": false,
    "deletable": true,
    "editable": true
   },
   "outputs": [],
   "source": [
    "letterprops = sorted(letterfrequency.items(), \n",
    "                           key=operator.itemgetter(1),reverse=True) # sort element in reverse order"
   ]
  },
  {
   "cell_type": "code",
   "execution_count": 46,
   "metadata": {
    "collapsed": false,
    "deletable": true,
    "editable": true
   },
   "outputs": [
    {
     "data": {
      "text/plain": [
       "[('e', '0.127'),\n",
       " ('t', '0.091'),\n",
       " ('a', '0.082'),\n",
       " ('o', '0.075'),\n",
       " ('i', '0.070'),\n",
       " ('n', '0.067'),\n",
       " ('s', '0.063'),\n",
       " ('h', '0.061'),\n",
       " ('r', '0.060'),\n",
       " ('d', '0.043'),\n",
       " ('l', '0.040'),\n",
       " ('c', '0.028'),\n",
       " ('u', '0.028'),\n",
       " ('m', '0.024'),\n",
       " ('w', '0.023'),\n",
       " ('f', '0.022'),\n",
       " ('g', '0.020'),\n",
       " ('y', '0.020'),\n",
       " ('p', '0.019'),\n",
       " ('b', '0.015'),\n",
       " ('v', '0.010'),\n",
       " ('k', '0.008'),\n",
       " ('j', '0.002'),\n",
       " ('q', '0.001'),\n",
       " ('x', '0.001'),\n",
       " ('z', '0.001')]"
      ]
     },
     "execution_count": 46,
     "metadata": {},
     "output_type": "execute_result"
    }
   ],
   "source": [
    "letterprops"
   ]
  },
  {
   "cell_type": "code",
   "execution_count": 47,
   "metadata": {
    "collapsed": false,
    "deletable": true,
    "editable": true
   },
   "outputs": [
    {
     "name": "stdout",
     "output_type": "stream",
     "text": [
      "letter frequency is: \n"
     ]
    },
    {
     "data": {
      "text/plain": [
       "[('e', '0.127'),\n",
       " ('t', '0.091'),\n",
       " ('a', '0.082'),\n",
       " ('o', '0.075'),\n",
       " ('i', '0.070'),\n",
       " ('n', '0.067'),\n",
       " ('s', '0.063'),\n",
       " ('h', '0.061'),\n",
       " ('r', '0.060'),\n",
       " ('d', '0.043'),\n",
       " ('l', '0.040'),\n",
       " ('c', '0.028'),\n",
       " ('u', '0.028'),\n",
       " ('m', '0.024'),\n",
       " ('w', '0.023'),\n",
       " ('f', '0.022'),\n",
       " ('g', '0.020'),\n",
       " ('y', '0.020'),\n",
       " ('p', '0.019'),\n",
       " ('b', '0.015'),\n",
       " ('v', '0.010'),\n",
       " ('k', '0.008'),\n",
       " ('j', '0.002'),\n",
       " ('q', '0.001'),\n",
       " ('x', '0.001'),\n",
       " ('z', '0.001')]"
      ]
     },
     "execution_count": 47,
     "metadata": {},
     "output_type": "execute_result"
    }
   ],
   "source": [
    "print \"letter frequency is: \"\n",
    "letterprops"
   ]
  },
  {
   "cell_type": "code",
   "execution_count": 53,
   "metadata": {
    "collapsed": false,
    "deletable": true,
    "editable": true
   },
   "outputs": [
    {
     "data": {
      "image/png": "[encoded data removed]",
      "text/plain": [
       "<matplotlib.figure.Figure object at 0x170622c10>"
      ]
     },
     "metadata": {},
     "output_type": "display_data"
    }
   ],
   "source": [
    "# Histogram plot gives us hint that some integers are missing\n",
    "# this integer must belong to the list occuring integer/ alphabet in the encosing\n",
    "# Inparticular observe 2 and 24 are not represented.----have zero count\n",
    "import matplotlib.pyplot as plt\n",
    "\n",
    "get_unique_set_element = list(set(C4)) ## gets the unique values in the list\n",
    "\n",
    "histo = []\n",
    "\n",
    "for i in get_unique_set_element:\n",
    "    histo.append(C4.count(i)) ## add the number of occurances to the histo list\n",
    "\n",
    "plt.bar(get_unique_set_element, histo,color=\"teal\")\n",
    "plt.title(\"Histogram plot of Integer occurence in Ciphertext\")\n",
    "plt.ylabel(\"Frequency of Integers\")\n",
    "plt.xlabel(\"Integers in Cipher text\")\n",
    "plt.xlim([0,26])\n",
    "plt.show()"
   ]
  },
  {
   "cell_type": "code",
   "execution_count": 56,
   "metadata": {
    "collapsed": false,
    "deletable": true,
    "editable": true
   },
   "outputs": [],
   "source": [
    "from collections import Counter # import collection to store count of integers in dictionary\n",
    "                                # we can also use a for loop see below"
   ]
  },
  {
   "cell_type": "code",
   "execution_count": 57,
   "metadata": {
    "collapsed": false,
    "deletable": true,
    "editable": true
   },
   "outputs": [],
   "source": [
    "Frequency_of_occurency = Counter(C4) # call counter from collection --- see above"
   ]
  },
  {
   "cell_type": "code",
   "execution_count": 58,
   "metadata": {
    "collapsed": false,
    "deletable": true,
    "editable": true
   },
   "outputs": [
    {
     "data": {
      "text/plain": [
       "Counter({14: 660, 26: 327, 19: 293, 7: 245, 25: 205, 13: 199, 15: 166, 10: 162, 0: 153, 3: 132, 4: 108, 6: 103, 22: 77, 5: 71, 21: 61, 1: 58, 12: 57, 18: 55, 11: 35, 23: 34, 9: 28, 20: 23, 16: 21, 8: 3, 17: 1})"
      ]
     },
     "execution_count": 58,
     "metadata": {},
     "output_type": "execute_result"
    }
   ],
   "source": [
    "Frequency_of_occurency # see integers and their frequency in a dictionary"
   ]
  },
  {
   "cell_type": "code",
   "execution_count": 62,
   "metadata": {
    "collapsed": false,
    "deletable": true,
    "editable": true
   },
   "outputs": [],
   "source": [
    "# to verify the output \n",
    "# we use default dictionary and use a for loop to count frequencies.\n",
    "# This returns values same as that of using the counter from python collection\n",
    "# library\n",
    "from collections import defaultdict\n",
    "Frequency_count_check = defaultdict(int)\n",
    "counter_space= 0\n",
    "for obj in C4:\n",
    "    if Integer(obj) < 0:\n",
    "        counter_space +=1 \n",
    "    else:\n",
    "        Frequency_count_check[obj] += 1"
   ]
  },
  {
   "cell_type": "code",
   "execution_count": 63,
   "metadata": {
    "collapsed": false,
    "deletable": true,
    "editable": true
   },
   "outputs": [
    {
     "data": {
      "text/plain": [
       "defaultdict(<type 'int'>, {0: 153, 1: 58, 3: 132, 4: 108, 5: 71, 6: 103, 7: 245, 8: 3, 9: 28, 10: 162, 11: 35, 12: 57, 13: 199, 14: 660, 15: 166, 16: 21, 17: 1, 18: 55, 19: 293, 20: 23, 21: 61, 22: 77, 23: 34, 25: 205, 26: 327})"
      ]
     },
     "execution_count": 63,
     "metadata": {},
     "output_type": "execute_result"
    }
   ],
   "source": [
    "Frequency_count_check # this agrees with the "
   ]
  },
  {
   "cell_type": "code",
   "execution_count": 73,
   "metadata": {
    "collapsed": false,
    "deletable": true,
    "editable": true
   },
   "outputs": [],
   "source": [
    "# This is the hint \n",
    "hint4= [-1, 11, 1, -1, -1, 9, 18, 13, 25, -1, 23, -1,\n",
    "        -1, 0, 15, 16, -1, -1, -1, -1, -1, -1, 5, 17, 12, 2, -1]"
   ]
  },
  {
   "cell_type": "code",
   "execution_count": 73,
   "metadata": {
    "collapsed": false,
    "deletable": true,
    "editable": true
   },
   "outputs": [],
   "source": [
    "# Observing the the histogram,\n",
    "# we can verify the integer 2 and 24 did not occur\n",
    "for x in C4:\n",
    "    if x == 24 or x == 24: # No number 2 or 24 in the digits. So 2 must belong to less occuring alphabets\n",
    "        print \"yes\"\n",
    "    "
   ]
  },
  {
   "cell_type": "code",
   "execution_count": 74,
   "metadata": {
    "collapsed": false,
    "deletable": true,
    "editable": true
   },
   "outputs": [],
   "source": [
    "# sort the dicionary of intergers and count\n",
    "Sorted_dictionary = sorted(Frequency_count_check.items(), \n",
    "                           key=operator.itemgetter(1),reverse=True) # sort element in reverse order"
   ]
  },
  {
   "cell_type": "code",
   "execution_count": null,
   "metadata": {
    "collapsed": true,
    "deletable": true,
    "editable": true
   },
   "outputs": [],
   "source": []
  },
  {
   "cell_type": "code",
   "execution_count": 75,
   "metadata": {
    "collapsed": false,
    "deletable": true,
    "editable": true
   },
   "outputs": [
    {
     "name": "stdout",
     "output_type": "stream",
     "text": [
      "cipher text frequency analysis:\n"
     ]
    },
    {
     "data": {
      "text/plain": [
       "[(14, 660),\n",
       " (26, 327),\n",
       " (19, 293),\n",
       " (7, 245),\n",
       " (25, 205),\n",
       " (13, 199),\n",
       " (15, 166),\n",
       " (10, 162),\n",
       " (0, 153),\n",
       " (3, 132),\n",
       " (4, 108),\n",
       " (6, 103),\n",
       " (22, 77),\n",
       " (5, 71),\n",
       " (21, 61),\n",
       " (1, 58),\n",
       " (12, 57),\n",
       " (18, 55),\n",
       " (11, 35),\n",
       " (23, 34),\n",
       " (9, 28),\n",
       " (20, 23),\n",
       " (16, 21),\n",
       " (8, 3),\n",
       " (17, 1)]"
      ]
     },
     "execution_count": 75,
     "metadata": {},
     "output_type": "execute_result"
    }
   ],
   "source": [
    "print \"cipher text frequency analysis:\"\n",
    "Sorted_dictionary"
   ]
  },
  {
   "cell_type": "code",
   "execution_count": 76,
   "metadata": {
    "collapsed": false,
    "deletable": true,
    "editable": true
   },
   "outputs": [
    {
     "name": "stdout",
     "output_type": "stream",
     "text": [
      "English words frequency: \n",
      " \n"
     ]
    },
    {
     "data": {
      "text/plain": [
       "[('e', '0.127'),\n",
       " ('t', '0.091'),\n",
       " ('a', '0.082'),\n",
       " ('o', '0.075'),\n",
       " ('i', '0.070'),\n",
       " ('n', '0.067'),\n",
       " ('s', '0.063'),\n",
       " ('h', '0.061'),\n",
       " ('r', '0.060'),\n",
       " ('d', '0.043'),\n",
       " ('l', '0.040'),\n",
       " ('c', '0.028'),\n",
       " ('u', '0.028'),\n",
       " ('m', '0.024'),\n",
       " ('w', '0.023'),\n",
       " ('f', '0.022'),\n",
       " ('g', '0.020'),\n",
       " ('y', '0.020'),\n",
       " ('p', '0.019'),\n",
       " ('b', '0.015'),\n",
       " ('v', '0.010'),\n",
       " ('k', '0.008'),\n",
       " ('j', '0.002'),\n",
       " ('q', '0.001'),\n",
       " ('x', '0.001'),\n",
       " ('z', '0.001')]"
      ]
     },
     "execution_count": 76,
     "metadata": {},
     "output_type": "execute_result"
    }
   ],
   "source": [
    "# Now below is the English word frequency\n",
    "print \"English words frequency: \\n \"\n",
    "letterprops"
   ]
  },
  {
   "cell_type": "code",
   "execution_count": 91,
   "metadata": {
    "collapsed": false,
    "deletable": true,
    "editable": true
   },
   "outputs": [
    {
     "name": "stdout",
     "output_type": "stream",
     "text": [
      " Map the English word frequency to sorted  Frequuency analysis of cipher text: \n",
      "  \n",
      "Freuency_analysis_comparism( [whitespace] ) =  14\n",
      "Frequency_analysis_comparism( e  ) =  26\n",
      "Frequency_analysis_comparism( t  ) =  19\n",
      "Frequency_analysis_comparism( a  ) =  7\n",
      "Frequency_analysis_comparism( o  ) =  25\n",
      "Frequency_analysis_comparism( i  ) =  13\n",
      "Frequency_analysis_comparism( n  ) =  15\n",
      "Frequency_analysis_comparism( s  ) =  10\n",
      "Frequency_analysis_comparism( h  ) =  0\n",
      "Frequency_analysis_comparism( r  ) =  3\n",
      "Frequency_analysis_comparism( d  ) =  4\n",
      "Frequency_analysis_comparism( l  ) =  6\n",
      "Frequency_analysis_comparism( c  ) =  22\n",
      "Frequency_analysis_comparism( u  ) =  5\n",
      "Frequency_analysis_comparism( m  ) =  21\n",
      "Frequency_analysis_comparism( w  ) =  1\n",
      "Frequency_analysis_comparism( f  ) =  12\n",
      "Frequency_analysis_comparism( g  ) =  18\n",
      "Frequency_analysis_comparism( y  ) =  11\n",
      "Frequency_analysis_comparism( p  ) =  23\n",
      "Frequency_analysis_comparism( b  ) =  9\n",
      "Frequency_analysis_comparism( v  ) =  20\n",
      "Frequency_analysis_comparism( k  ) =  16\n",
      "Frequency_analysis_comparism( j  ) =  8\n",
      "Frequency_analysis_comparism( q  ) =  17\n"
     ]
    }
   ],
   "source": [
    "count = 0;\n",
    "# since white space is the most freqient we assign it  14\n",
    "# and use count to increment the loop each letterprops which has no white space in it\n",
    "print \" Map the English word frequency to sorted  Frequuency analysis of cipher text: \\n  \"\n",
    "for key in range(0,len(Sorted_dictionary)):\n",
    "    if key == 0:\n",
    "        print  \"Freuency_analysis_comparism( [whitespace] ) = \", Sorted_dictionary[key][0]\n",
    "        \n",
    "    else:\n",
    "        print  \"Frequency_analysis_comparism(\" , letterprops[count][0]  , \" ) = \" , Sorted_dictionary[key][0] \n",
    "        count+=1"
   ]
  },
  {
   "cell_type": "code",
   "execution_count": 92,
   "metadata": {
    "collapsed": false,
    "deletable": true,
    "editable": true
   },
   "outputs": [],
   "source": [
    "# Using the frequecy mapping above and the hint:\n",
    "# We have that the most frequent string is the whitespace \n",
    "# Thus white space is the seperation between the words.\n",
    "# Therefore, we read the cipher text at intervals of 14-(which is white space).\n",
    "# This will show that 26 maps to e \n",
    "# and that t also maps to 19\n",
    "# and finally 7 also maps to a,.\n",
    "# The others we detect reading the text\n",
    "# There is 2 missing in the whole cipher text and it corresponds to z in the hint4\n",
    "# This is not suprising since it is less frequent\n",
    "# In addition j and q mappings also seem to be correct directly from frequency analysis"
   ]
  },
  {
   "cell_type": "code",
   "execution_count": 78,
   "metadata": {
    "collapsed": false,
    "deletable": true,
    "editable": true
   },
   "outputs": [],
   "source": [
    "QValues = [0,1,2,3,4,5,6,7,8,9,10,11,12,13,14,15,16,17,18,19,20,21,22,23,24,25,26] # digits of alphabets\n",
    "Qkeys = [7,11,1,4,26,9,18,13,25,8,23,6,21,0,15,16,24,3,10,19,22,20,5,17,12,2,14]"
   ]
  },
  {
   "cell_type": "code",
   "execution_count": 79,
   "metadata": {
    "collapsed": false,
    "deletable": true,
    "editable": true
   },
   "outputs": [],
   "source": [
    "Q3b = parameter_dict = dict( zip(QValues, Qkeys ) )"
   ]
  },
  {
   "cell_type": "code",
   "execution_count": 80,
   "metadata": {
    "collapsed": false,
    "deletable": true,
    "editable": true
   },
   "outputs": [
    {
     "name": "stdout",
     "output_type": "stream",
     "text": [
      "Q3b( 0 ) =  7\n",
      "Q3b( 1 ) =  11\n",
      "Q3b( 2 ) =  1\n",
      "Q3b( 3 ) =  4\n",
      "Q3b( 4 ) =  26\n",
      "Q3b( 5 ) =  9\n",
      "Q3b( 6 ) =  18\n",
      "Q3b( 7 ) =  13\n",
      "Q3b( 8 ) =  25\n",
      "Q3b( 9 ) =  8\n",
      "Q3b( 10 ) =  23\n",
      "Q3b( 11 ) =  6\n",
      "Q3b( 12 ) =  21\n",
      "Q3b( 13 ) =  0\n",
      "Q3b( 14 ) =  15\n",
      "Q3b( 15 ) =  16\n",
      "Q3b( 16 ) =  24\n",
      "Q3b( 17 ) =  3\n",
      "Q3b( 18 ) =  10\n",
      "Q3b( 19 ) =  19\n",
      "Q3b( 20 ) =  22\n",
      "Q3b( 21 ) =  20\n",
      "Q3b( 22 ) =  5\n",
      "Q3b( 23 ) =  17\n",
      "Q3b( 24 ) =  12\n",
      "Q3b( 25 ) =  2\n",
      "Q3b( 26 ) =  14\n"
     ]
    }
   ],
   "source": [
    "for i in Q3b:\n",
    "    print \"Q3b(\", i,\") = \", Q3b[i]"
   ]
  },
  {
   "cell_type": "code",
   "execution_count": null,
   "metadata": {
    "collapsed": false,
    "deletable": true,
    "editable": true
   },
   "outputs": [],
   "source": []
  },
  {
   "cell_type": "code",
   "execution_count": 84,
   "metadata": {
    "collapsed": false,
    "deletable": true,
    "editable": true
   },
   "outputs": [],
   "source": [
    "# This decryptor function will decode the cipher text wince we now know the mappings\n",
    "decryptor = parameter_dict = dict( zip(Qkeys,QValues ) )\n",
    "decrypted_text = []\n",
    "for i in C4:\n",
    "    if i in QValues:\n",
    "          #if i != 19:\n",
    "          #print i\n",
    "          temp = decryptor[i]\n",
    "          decrypted_text.append(temp)\n",
    "          #print decryptor[i]\n",
    "          #break"
   ]
  },
  {
   "cell_type": "code",
   "execution_count": 89,
   "metadata": {
    "collapsed": false,
    "deletable": true,
    "editable": true
   },
   "outputs": [],
   "source": [
    "decoded_cipher_text= Int2str(decrypted_text)"
   ]
  },
  {
   "cell_type": "code",
   "execution_count": 90,
   "metadata": {
    "collapsed": false,
    "deletable": true,
    "editable": true
   },
   "outputs": [
    {
     "data": {
      "text/plain": [
       "'there was a table set out under a tree in front of the house and the march hare and the hatter were having tea at it a dormouse was sitting between them fast asleep and the other two were using it as a cushion resting their elbows on it and talking over its head very uncomfortable for the dormouse thought alice only as its asleep i suppose it doesnt mind the table was a large one but the three were all crowded together at one corner of it no room no room they cried out when they saw alice coming theres plenty of room said alice indignantly and she sat down in a large armchair at one end of the table have some wine the march hare said in an encouraging tone alice looked all round the table but there was nothing on it but tea i dont see any wine she remarked there isnt any said the march hare then it wasnt very civil of you to offer it said alice angrily it wasnt very civil of you to sit down without being invited said the march hare i didnt know it was your table said alice its laid for a great many more than three your hair wants cutting said the hatter he had been looking at alice for some time with great curiosity and this was his first speech you should learn not to make personal remarks alice said with some severity its very rude the hatter opened his eyes very wide on hearing this but all he said was why is a raven like a writingdesk come we shall have some fun now thought alice im glad theyve begun asking riddles i believe i can guess that she added aloud do you mean that you think you can find out the answer to it said the march hare exactly so said alice then you should say what you mean the march hare went on i do alice hastily replied at leastat least i mean what i saythats the same thing you know not the same thing a bit said the hatter you might just as well say that i see what i eat is the same thing as i eat what i see you might just as well say added the march hare that i like what i get is the same thing as i get what i like you might just as well say added the dormouse who seemed to be talking in his sleep that i breathe when i sleep is the same thing as i sleep when i breathe it is the same thing with you said the hatter and here the conversation dropped and the party sat silent for a minute while alice thought over all she could remember about ravens and writingdesks which wasnt much the hatter was the first to break the silence what day of the month is it he said turning to alice he had taken his watch out of his pocket and was looking at it uneasily shaking it every now and then and holding it to his ear alice considered a little and then said the fourth two days wrong sighed the hatter i told you butter wouldnt suit the works he added looking angrily at the march hare it was the best butter the march hare meekly replied yes but some crumbs must have got in as well the hatter grumbled you shouldnt have put it in with the breadknife the march hare took the watch and looked at it gloomily then he dipped it into his cup of tea and looked at it again but he could think of nothing better to say than his first remark it was the best butter you know alice had been looking over his shoulder with some curiosity what a funny watch she remarked it tells the day of the month and doesnt tell what oclock it is '"
      ]
     },
     "execution_count": 90,
     "metadata": {},
     "output_type": "execute_result"
    }
   ],
   "source": [
    "decoded_cipher_text[0]"
   ]
  },
  {
   "cell_type": "code",
   "execution_count": 147,
   "metadata": {
    "collapsed": false,
    "deletable": true,
    "editable": true
   },
   "outputs": [],
   "source": [
    "# This is from Alice in Wonderland;"
   ]
  },
  {
   "cell_type": "code",
   "execution_count": 10,
   "metadata": {
    "collapsed": false,
    "deletable": true,
    "editable": true
   },
   "outputs": [],
   "source": []
  },
  {
   "cell_type": "markdown",
   "metadata": {
    "deletable": true,
    "editable": true
   },
   "source": [
    "# Exercise 3"
   ]
  },
  {
   "cell_type": "code",
   "execution_count": 154,
   "metadata": {
    "collapsed": true,
    "deletable": true,
    "editable": true
   },
   "outputs": [],
   "source": [
    "n3=56883035787711984709746044941908542353686385686186899224808550168570130599373860352095788384779540489857823324955874869023454311629006040145757300801857373311136373616834703698720687767415133707862955923122374860442203297671741563306466830616624206896198829489085738354508433316862759303677891522671529474506904063726123173713813214897636183655813117059136988876122740373869948913796320528588756389545342882412104619885392954149891201825840631741576411769027105134346649160147525354685786470318546790158102201249405929079909525535068583998347275436585524970641433416011762473727233504385817560114708978362632734235277\n",
    "g3=20369851835940902712426521423805948101711087377429155349869297746666361752916100033866067965683024450388325635500301613807971382264678378221840170421011992645099055537237195576076668177800642436245231927780260570179819322568524738499633464590024389571223413410056415513797872062267049359106139833105067086212478053810478187557687933761916634929131345699858586394866979761473774522425543238771512839441949137222055080227660655056605965046347608416868189314925850086232163668828204843222093804294165076898466206967127535952300343118990943678456704578134029704903924374718474625381329515941103080117252131360895405353120\n",
    "X3=24867970608027675738217006892082276451387710136489801365355541194764246418962874457302198274606793642514272147468657522121779004213504019318106527948698546135235300996016938772166575867515319945371847818130762851426617107292588799298691883150147160644802270290479777394864129945835742555363050791756178191216882111333556921157794552626034265904365179295052676098708425218463318005663618625440106388152571250664725180099216929131257514948239886888185340176998474955534598439669405380772543047416983177056613741760325073508733765564548799432936134779479608977767555007314354656194866012098506467043441687308963631807290\n",
    "Y3=28998520360344491368516995989380879785258343479731170535371628423289766761803163020038444457306916248740211357264424420480281391558436217690793530540426607302487394207013485939542936716858945166903168149930331170041070526065931738903269303679722720880098663712503847152704705579679964030759116644630013190435147191796255618759609723935287269015442934736360487466584809738916090988352740867306741310964662966748901533907909485018360133425016675026340539560276683684776319371594452020616098374885074999748057217238603000967667377579359942880752289402101939796596788983560720870913243793344197744409889672912469695599276"
   ]
  },
  {
   "cell_type": "code",
   "execution_count": 155,
   "metadata": {
    "collapsed": true,
    "deletable": true,
    "editable": true
   },
   "outputs": [],
   "source": [
    " # Alice chooses random a in {Z}_p^* and sends A=aP (this means  P+ ...+P$, a times).\n",
    " # Bob chooses  b in {Z}_p^* and sends B=bP.\n",
    " # Alice computes K=aB=(ab)P\n",
    " # Bob computes K=bA=(ba)P=(ab)P"
   ]
  },
  {
   "cell_type": "code",
   "execution_count": 156,
   "metadata": {
    "collapsed": true,
    "deletable": true,
    "editable": true
   },
   "outputs": [],
   "source": [
    "# If we transpose the Diffie-Hellman in the additive group (Zp,+),\n",
    "# the intractibility of the discrete logarithm problem is no longer satisfied."
   ]
  },
  {
   "cell_type": "code",
   "execution_count": 157,
   "metadata": {
    "collapsed": true,
    "deletable": true,
    "editable": true
   },
   "outputs": [],
   "source": [
    "# The exponentation is transposed to a multiplication,\n",
    "# while the discrete logarithm operation becomes \n",
    "# equivalent to a division (i.e., to a multiplication with an inverse element)."
   ]
  },
  {
   "cell_type": "code",
   "execution_count": 158,
   "metadata": {
    "collapsed": true,
    "deletable": true,
    "editable": true
   },
   "outputs": [],
   "source": [
    "# As computing the inverse (with respect to the multiplication) of an element \n",
    "# in Zp is an easy task with the Ex- tended Euclid Algorithm,"
   ]
  },
  {
   "cell_type": "code",
   "execution_count": 159,
   "metadata": {
    "collapsed": false,
    "deletable": true,
    "editable": true
   },
   "outputs": [],
   "source": [
    "# Solution#####\n",
    "# we do not know a and b\n",
    "# But we know bg = x_3 mod n3\n",
    "# Which implies that computing the inverse: bg * g^-1 = x^3 * g^-1 mod n3 which gives b"
   ]
  },
  {
   "cell_type": "code",
   "execution_count": 160,
   "metadata": {
    "collapsed": false,
    "deletable": true,
    "editable": true
   },
   "outputs": [
    {
     "name": "stdout",
     "output_type": "stream",
     "text": [
      "gcd of g3 and n3 is:  1\n",
      "gcd of X3 and n3 is:  1\n",
      "gcd of X3 and g3 is:  1\n"
     ]
    }
   ],
   "source": [
    "print \"gcd of g3 and n3 is: \",gcd(g3, n3)\n",
    "print \"gcd of X3 and n3 is: \", gcd(X3, n3)\n",
    "print \"gcd of X3 and g3 is: \", gcd(X3, n3)\n",
    "\n"
   ]
  },
  {
   "cell_type": "code",
   "execution_count": 161,
   "metadata": {
    "collapsed": false,
    "deletable": true,
    "editable": true
   },
   "outputs": [
    {
     "name": "stdout",
     "output_type": "stream",
     "text": [
      "the inverse of g3 mod n3 is \n",
      ": 49634280566541619899108815996871961614733245061056249467593029181489252259838606900261207548607998456859927060011209281695289981580409078146892751348309179982183020594781895396439095032216070333277739524960153011962795096944747063808173993308357932993227871367417462097827114034241723641484880021468175382975743527672390071075695668938383668546491052186919517993616082664828391532752704997674193840321040605825900169820578948833713917894878997705068739020751089918890186602221530029209707547521938929147034474733141984953258938813805594999947112978241330926753983380548129325915149539914597119548009279852861110676569\n",
      "\n",
      " this is our b \n",
      "34017958190506706324838256085325820265105352860857142346292737049368607101457374012223308102563946183207231166277780922137483472686124371041471737026875677858762181840476958882154610884238594267488549728404794633980496623135109320987934410201315510074536441504376525628904710103136706091123282498292729731255667344021125415057693965388289356868050876051102663338676110280584173143010591374385492547225491988459440708229909980573877467270298098612064922031555508676625259423380845953349483733544252931543896839351449822976152473520226219887816160388117154882144096662376793092455277515478324744411757846127186854500696\n"
     ]
    }
   ],
   "source": [
    "inverse_g3 = inverse_mod(g3, n3)\n",
    "b = mod((inverse_g3*X3),n3)\n",
    "print \"the inverse of g3 mod n3 is \\n:\", inverse_g3 \n",
    "print  \"\\n this is our b \\n\", b"
   ]
  },
  {
   "cell_type": "code",
   "execution_count": 162,
   "metadata": {
    "collapsed": false,
    "deletable": true,
    "editable": true
   },
   "outputs": [
    {
     "name": "stdout",
     "output_type": "stream",
     "text": [
      "is gb equal to X3: True\n"
     ]
    }
   ],
   "source": [
    "# TO check, denote gb as product of g and b\n",
    "gb = mod((g3*b), n3) \n",
    "print \"is gb equal to X3:\", gb == X3\n"
   ]
  },
  {
   "cell_type": "code",
   "execution_count": 163,
   "metadata": {
    "collapsed": false,
    "deletable": true,
    "editable": true
   },
   "outputs": [],
   "source": [
    "# Similarly to compute a \n",
    "# But we know ag = Y_3 mod n3\n",
    "# Which implies that computing the inverse: bg * g^-1 = Y^3 * g^-1 mod n3 which gives b"
   ]
  },
  {
   "cell_type": "code",
   "execution_count": 164,
   "metadata": {
    "collapsed": false,
    "deletable": true,
    "editable": true
   },
   "outputs": [
    {
     "name": "stdout",
     "output_type": "stream",
     "text": [
      "gcd of g3 and n3 is:  1\n",
      "gcd of X3 and n3 is:  1\n",
      "gcd of Y3 and g3 is:  1\n"
     ]
    }
   ],
   "source": [
    "print \"gcd of g3 and n3 is: \",gcd(g3, n3)\n",
    "print \"gcd of X3 and n3 is: \", gcd(X3, n3)\n",
    "print \"gcd of Y3 and g3 is: \", gcd(X3, n3)\n",
    "\n",
    "\n"
   ]
  },
  {
   "cell_type": "code",
   "execution_count": 165,
   "metadata": {
    "collapsed": false,
    "deletable": true,
    "editable": true
   },
   "outputs": [
    {
     "name": "stdout",
     "output_type": "stream",
     "text": [
      "\n",
      " This is our a:  \n",
      "15655750870793162220986094486423108104906068822999943614282863259804412000821661477656049920452724745834640552806542090561490818107919712720867951702570361397085323015036986821790020201824235283785330599958850585786927078984176719409385734320955531292376449566255782623134413627337806199028043829665872337926159512946302822253298998296151274484792802142973585737209530890875418250568468971257907715080708870547458574970149246666658025952486956309424369601907242692989251616890860244909773856785171040852314060366049220901850144265855265698818939192003816889837087257044418603674369765898104263105724042846239636854947\n"
     ]
    }
   ],
   "source": [
    "a = mod((inverse_g3*Y3),n3)\n",
    "print  \"\\n This is our a:  \\n\", a"
   ]
  },
  {
   "cell_type": "code",
   "execution_count": 166,
   "metadata": {
    "collapsed": false,
    "deletable": true,
    "editable": true
   },
   "outputs": [
    {
     "name": "stdout",
     "output_type": "stream",
     "text": [
      "is gb equal to X3 True\n"
     ]
    }
   ],
   "source": [
    "# To check\n",
    "# TO check, denote gb as product of g and b\n",
    "ga = mod((a*g3), n3) \n",
    "print \"is gb equal to X3\", ga == Y3\n",
    "\n"
   ]
  },
  {
   "cell_type": "code",
   "execution_count": 167,
   "metadata": {
    "collapsed": true,
    "deletable": true,
    "editable": true
   },
   "outputs": [],
   "source": [
    "# To compute the final Compute the output Q3 of the \n",
    "# DH key exchange between Alice and Bob and write it in your\n",
    "# Final output is : b(Y3) = b(ag3) and a(X3) = a (bg3)"
   ]
  },
  {
   "cell_type": "code",
   "execution_count": 168,
   "metadata": {
    "collapsed": false,
    "deletable": true,
    "editable": true
   },
   "outputs": [],
   "source": [
    "# Both Alice and Bob should have same final key\n",
    "# We compute for each separately  and compare. To confirm \n",
    "# equality\n",
    "\n",
    "Q3a = mod((b*Y3), n3)\n",
    "Q3b = mod((a*X3),n3)"
   ]
  },
  {
   "cell_type": "code",
   "execution_count": 169,
   "metadata": {
    "collapsed": false,
    "deletable": true,
    "editable": true
   },
   "outputs": [
    {
     "name": "stdout",
     "output_type": "stream",
     "text": [
      "the output of both Alice and Bob is same:  True\n"
     ]
    }
   ],
   "source": [
    "# Check the output is same\n",
    "print \"the output of both Alice and Bob is same: \", Q3a == Q3b"
   ]
  },
  {
   "cell_type": "code",
   "execution_count": 170,
   "metadata": {
    "collapsed": true,
    "deletable": true,
    "editable": true
   },
   "outputs": [],
   "source": [
    "Q3 = Q3a"
   ]
  },
  {
   "cell_type": "code",
   "execution_count": 171,
   "metadata": {
    "collapsed": false,
    "deletable": true,
    "editable": true
   },
   "outputs": [
    {
     "name": "stdout",
     "output_type": "stream",
     "text": [
      "The Q3 is: \n",
      "48392708167681394736021577917471700183429743894786023673753202450964184935043951381679236130138894561816261121469769671404614562326677311783380820407455825502980559534224539897819189572517001477615663718238342464287520759535191282932948413677443251523155940934417728401644339179633037794847765021961193852208813174665994394708477983314537939368317158682676606621627845585624212722609642037260312453679971405184235063531934242317948392204211662664527991740280272340909194960651847198344657606645354416513267964467165767260699242858086481700389661376972905519105993918148531811250460042341719856172148144404986342963228\n"
     ]
    }
   ],
   "source": [
    "print \"The Q3 is: \\n\", Q3"
   ]
  },
  {
   "cell_type": "markdown",
   "metadata": {
    "collapsed": true,
    "deletable": true,
    "editable": true
   },
   "source": [
    "# Exercise 5 "
   ]
  },
  {
   "cell_type": "code",
   "execution_count": 1,
   "metadata": {
    "collapsed": true,
    "deletable": true,
    "editable": true
   },
   "outputs": [],
   "source": [
    "#C5= [15, 1, 19, 19, 23, 14, 17, 3, 26, 9, 19, 26, 19, 2, 15, 20, 17, 7, 5, 19]\n",
    "C5= [15, 1, 19, 19, 22, 14, 17, 4, 26, 8, 19, 0, 17, 14, 20, 20, 4, 14, 5, 18]\n",
    "\n",
    "# WE observe that the plain text contains 26 at different intervals\n",
    "# Since we made a good guess that the message contains words from dictionary \n",
    "# and spaces. we can reasonable assume the space correspond to 26.\n",
    "# In particular since we also known that in any message the encoding of\n",
    "# space is either 26 or 0 (26 + 1 = 0 or 26 + 0 = 26) and no zero in the text\n",
    "# We can first work with the assumption that26 is space\n"
   ]
  },
  {
   "cell_type": "code",
   "execution_count": 2,
   "metadata": {
    "collapsed": true,
    "deletable": true,
    "editable": true
   },
   "outputs": [],
   "source": [
    "f = open(\"dictionary.txt\",\"r\") # open the dictionary\n",
    "#ct = f.readlines()"
   ]
  },
  {
   "cell_type": "code",
   "execution_count": 3,
   "metadata": {
    "collapsed": false,
    "deletable": true,
    "editable": true
   },
   "outputs": [],
   "source": [
    "# read the dictionary\n",
    "dictionary=[]\n",
    "for line in f: \n",
    "    line=line.rstrip(\"\\n\")\n",
    "    dictionary.append(line) "
   ]
  },
  {
   "cell_type": "code",
   "execution_count": 4,
   "metadata": {
    "collapsed": false,
    "deletable": true,
    "editable": true
   },
   "outputs": [
    {
     "data": {
      "text/plain": [
       "['aardvark',\n",
       " 'aardvarks',\n",
       " 'abaci',\n",
       " 'aback',\n",
       " 'abacus',\n",
       " 'abacuses',\n",
       " 'abaft',\n",
       " 'abalone',\n",
       " 'abalones']"
      ]
     },
     "execution_count": 4,
     "metadata": {},
     "output_type": "execute_result"
    }
   ],
   "source": [
    "dictionary[1:10] # see the result of what was read"
   ]
  },
  {
   "cell_type": "code",
   "execution_count": 10,
   "metadata": {
    "collapsed": false,
    "deletable": true,
    "editable": true
   },
   "outputs": [],
   "source": [
    "# encode each word from the dictionary\n",
    "dictionary_encoded =[];\n",
    "for x in dictionary:\n",
    "    temp = str2Int(x)\n",
    "    dictionary_encoded.append(temp)"
   ]
  },
  {
   "cell_type": "code",
   "execution_count": 11,
   "metadata": {
    "collapsed": false,
    "deletable": true,
    "editable": true
   },
   "outputs": [
    {
     "data": {
      "text/plain": [
       "[0, 0, 17, 3, 21, 0, 17, 10]"
      ]
     },
     "execution_count": 11,
     "metadata": {},
     "output_type": "execute_result"
    }
   ],
   "source": [
    "dictionary_encoded[1]"
   ]
  },
  {
   "cell_type": "code",
   "execution_count": 13,
   "metadata": {
    "collapsed": false,
    "deletable": true,
    "editable": true
   },
   "outputs": [],
   "source": [
    "# Now combine the encoding and the dictionary text into a dictionary\n",
    "from collections import OrderedDict\n",
    "\n",
    "dictionary_of_encodings = OrderedDict( zip(dictionary, dictionary_encoded ) ) # this bears each word and \n",
    "                                                                              #  the corresponding encoding"
   ]
  },
  {
   "cell_type": "code",
   "execution_count": 7,
   "metadata": {
    "collapsed": true,
    "deletable": true,
    "editable": true
   },
   "outputs": [],
   "source": [
    "# This is our cipher text\n",
    "# we consider the ciphertext small subset at a time\n",
    "# In particular we consider all integers using 26 \n",
    "# as our delimiter\n",
    "# so that we get something like this\n",
    "# [15, 1, 19, 19, 23, 14, 17, 3]  + 26 +\n",
    "# [9, 19,] + 26 +\n",
    "# [19, 2, 15, 20, 17, 7, 5, 19]\n",
    "# we try to decode each of this subset\n",
    "#C5= [15, 1, 19, 19, 23, 14, 17, 3, 26, 9, 19, 26, 19, 2, 15, 20, 17, 7, 5, 19]  # cipher text"
   ]
  },
  {
   "cell_type": "code",
   "execution_count": 14,
   "metadata": {
    "collapsed": false,
    "deletable": true,
    "editable": true
   },
   "outputs": [
    {
     "data": {
      "text/plain": [
       "[('a', [0]),\n",
       " ('aardvark', [0, 0, 17, 3, 21, 0, 17, 10]),\n",
       " ('aardvarks', [0, 0, 17, 3, 21, 0, 17, 10, 18]),\n",
       " ('abaci', [0, 1, 0, 2, 8]),\n",
       " ('aback', [0, 1, 0, 2, 10])]"
      ]
     },
     "execution_count": 14,
     "metadata": {},
     "output_type": "execute_result"
    }
   ],
   "source": [
    "dictionary_of_encodings.items()[0:5] # test the new word-encoding pair in the new dictionary"
   ]
  },
  {
   "cell_type": "code",
   "execution_count": 15,
   "metadata": {
    "collapsed": false,
    "deletable": true,
    "editable": true
   },
   "outputs": [
    {
     "data": {
      "text/plain": [
       "[18]"
      ]
     },
     "execution_count": 15,
     "metadata": {},
     "output_type": "execute_result"
    }
   ],
   "source": [
    "dictionary_of_encodings['s'] # we can return the encoding for s"
   ]
  },
  {
   "cell_type": "code",
   "execution_count": 16,
   "metadata": {
    "collapsed": true,
    "deletable": true,
    "editable": true
   },
   "outputs": [],
   "source": [
    "C5= [15, 1, 19, 19, 23, 14, 17, 3, 26, 9, 19, 26, 19, 2, 15, 20, 17, 7, 5, 19]  # cipher text"
   ]
  },
  {
   "cell_type": "code",
   "execution_count": 19,
   "metadata": {
    "collapsed": true,
    "deletable": true,
    "editable": true
   },
   "outputs": [],
   "source": [
    "# Break C5 into sublist using 26 as  space as explained above\n",
    "C51 = [15, 1, 19, 19, 22, 14, 17, 4]\n",
    "C52 = [8, 19]\n",
    "C53 = [ 17, 14, 20, 20, 4, 14, 5, 18]"
   ]
  },
  {
   "cell_type": "code",
   "execution_count": 20,
   "metadata": {
    "collapsed": false,
    "deletable": true,
    "editable": true
   },
   "outputs": [],
   "source": [
    "import itertools\n",
    "\n",
    "def key_combination_generator(K,N):\n",
    "    '''\n",
    "    Function returns all \n",
    "    combinations of 1 and 0 \n",
    "    of length 2^(k*N)\n",
    "    input : integer K and N\n",
    "    output: 2^(k*N) of {1 , 0}* each of length (k*N)\n",
    "    \n",
    "    '''\n",
    "    collector = [];\n",
    "    [collector.append(i) for i in itertools.product([0, 1], repeat = K*N)]\n",
    "    return collector "
   ]
  },
  {
   "cell_type": "code",
   "execution_count": 21,
   "metadata": {
    "collapsed": false,
    "deletable": true,
    "editable": true
   },
   "outputs": [],
   "source": [
    "C51_keys_collector = key_combination_generator(1,len(C51))\n",
    "C52_keys_collector = key_combination_generator(1,len(C52))\n",
    "C53_keys_collector = key_combination_generator(1,len(C53))"
   ]
  },
  {
   "cell_type": "code",
   "execution_count": null,
   "metadata": {
    "collapsed": false,
    "deletable": true,
    "editable": true
   },
   "outputs": [],
   "source": []
  },
  {
   "cell_type": "code",
   "execution_count": 22,
   "metadata": {
    "collapsed": false,
    "deletable": true,
    "editable": true
   },
   "outputs": [],
   "source": [
    "def all_possible_decryption(possible_keys,cipher_text):\n",
    "    '''\n",
    "    Input : decryption keys in the set {0,1}\n",
    "    Output: List. All possible decryptions \n",
    "            List. All possible keys\n",
    "    '''\n",
    "    collector = [];\n",
    "    for item in possible_keys:\n",
    "        temp = list(item) # store an instance of key here\n",
    "        templist =[] # empty list. to store values after subtration of keys\n",
    "        for i,j in  map(None,cipher_text,temp):\n",
    "            #print i,j\n",
    "            temp2 = i-j # decryption step. Subtract the each element of keys from the cipher text\n",
    "            templist.append(temp2) # put in templist. And empty temp list in next iteration\n",
    "            #print\n",
    "            #print templist\n",
    "        collector.append(templist)\n",
    "    return collector   \n",
    "            \n",
    "    "
   ]
  },
  {
   "cell_type": "code",
   "execution_count": 27,
   "metadata": {
    "collapsed": false,
    "deletable": true,
    "editable": true
   },
   "outputs": [],
   "source": [
    "C51_all_decryption = all_possible_decryption(C51_keys_collector,C51)\n",
    "C52_all_decryption = all_possible_decryption(C52_keys_collector,C52)\n",
    "C53_all_decrption =all_possible_decryption(C53_keys_collector,C53)"
   ]
  },
  {
   "cell_type": "code",
   "execution_count": 28,
   "metadata": {
    "collapsed": true,
    "deletable": true,
    "editable": true
   },
   "outputs": [],
   "source": [
    "# Use lambda mapping and any to see common element from the \n",
    "# lsit of decryption  and list words in dictionary"
   ]
  },
  {
   "cell_type": "code",
   "execution_count": 29,
   "metadata": {
    "collapsed": false,
    "deletable": true,
    "editable": true
   },
   "outputs": [
    {
     "name": "stdout",
     "output_type": "stream",
     "text": [
      "True\n",
      "True\n",
      "True\n"
     ]
    }
   ],
   "source": [
    "#Use simple lambda expression to check if a common list element exist between\n",
    "# the list of dictionary encodings and all possibe encryption\n",
    "# As we can see there is a common element between dictionary encoding\n",
    "# and the list of all possible encryption\n",
    "print any(map(lambda x: x in dictionary_encoded,C51_all_decryption))\n",
    "print any(map(lambda x: x in dictionary_encoded,C52_all_decryption))\n",
    "print any(map(lambda x: x in dictionary_encoded,C53_all_decrption))"
   ]
  },
  {
   "cell_type": "code",
   "execution_count": 31,
   "metadata": {
    "collapsed": false,
    "deletable": true,
    "editable": true
   },
   "outputs": [],
   "source": [
    "# Since true was return above\n",
    "# We use the function below\n",
    "# to retrieve all element corresponding to true from list\n",
    "\n",
    "all_decryption = [C51_all_decryption,C52_all_decryption,C53_all_decrption]\n",
    "def decryption(index):\n",
    "    '''\n",
    "    Input: integer i. Signifying index in all_decryption\n",
    "    Output : List. The ecncoding for the element \n",
    "    '''\n",
    "    common_element = []\n",
    "    for i in dictionary_encoded:\n",
    "        for j in all_decryption[index]:\n",
    "            if j ==i:\n",
    "                common_element.append(i)\n",
    "    common_element = common_element[0]\n",
    "    return common_element"
   ]
  },
  {
   "cell_type": "code",
   "execution_count": 32,
   "metadata": {
    "collapsed": false,
    "deletable": true,
    "editable": true
   },
   "outputs": [],
   "source": [
    "index1 = 0; # index of C51_all_deccryption in all_decryption\n",
    "index2 =1; # index of C52_all_deccryption in all_decryption\n",
    "index3 = 2 ; # index of C52_all_deccryption in all_decryption\n",
    "C51_encoding = decryption(index1)\n",
    "C52_encoding = decryption(index2)\n",
    "C53_encoding =decryption(index3)"
   ]
  },
  {
   "cell_type": "code",
   "execution_count": 33,
   "metadata": {
    "collapsed": false,
    "deletable": true,
    "editable": true
   },
   "outputs": [],
   "source": [
    "# Next we get the word for the encoding from dictionary"
   ]
  },
  {
   "cell_type": "code",
   "execution_count": 34,
   "metadata": {
    "collapsed": false,
    "deletable": true,
    "editable": true
   },
   "outputs": [],
   "source": [
    "def phrase(index):\n",
    "    temp = ''\n",
    "    for k, v in dictionary_of_encodings.items():\n",
    "        if index == v :\n",
    "         temp = k\n",
    "    return temp + \" \"\n",
    "    "
   ]
  },
  {
   "cell_type": "code",
   "execution_count": 35,
   "metadata": {
    "collapsed": true,
    "deletable": true,
    "editable": true
   },
   "outputs": [],
   "source": [
    "phrase1 = phrase(C51_encoding)\n",
    "phrase2 = phrase(C52_encoding)\n",
    "phrase3 = phrase(C53_encoding)"
   ]
  },
  {
   "cell_type": "code",
   "execution_count": 36,
   "metadata": {
    "collapsed": false,
    "deletable": true,
    "editable": true
   },
   "outputs": [
    {
     "name": "stdout",
     "output_type": "stream",
     "text": [
      "The decrypted phrase phrase is\n"
     ]
    },
    {
     "data": {
      "text/plain": [
       "'password  is  rottener '"
      ]
     },
     "execution_count": 36,
     "metadata": {},
     "output_type": "execute_result"
    }
   ],
   "source": [
    "print \"The decrypted phrase phrase is\"\n",
    "phrase1 + \" \" + phrase2 +\" \" + phrase3"
   ]
  },
  {
   "cell_type": "code",
   "execution_count": null,
   "metadata": {
    "collapsed": true,
    "deletable": true,
    "editable": true
   },
   "outputs": [],
   "source": []
  }
 ],
 "metadata": {
  "kernelspec": {
   "display_name": "SageMath 7.6",
   "language": "",
   "name": "sagemath"
  },
  "language_info": {
   "codemirror_mode": {
    "name": "ipython",
    "version": 2
   },
   "file_extension": ".py",
   "mimetype": "text/x-python",
   "name": "python",
   "nbconvert_exporter": "python",
   "pygments_lexer": "ipython2",
   "version": "2.7.13"
  }
 },
 "nbformat": 4,
 "nbformat_minor": 2
}
